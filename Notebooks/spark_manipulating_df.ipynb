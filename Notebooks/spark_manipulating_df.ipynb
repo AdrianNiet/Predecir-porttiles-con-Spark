{
 "cells": [
  {
   "cell_type": "code",
   "execution_count": 8,
   "metadata": {},
   "outputs": [],
   "source": [
    "from pyspark.sql import SparkSession\n",
    "from pyspark.sql.functions import isnan, when, count, col, isnull\n",
    "from pyspark.ml.feature import Imputer"
   ]
  },
  {
   "cell_type": "code",
   "execution_count": 9,
   "metadata": {},
   "outputs": [],
   "source": [
    "spark = SparkSession.builder.appName(\"practica\").getOrCreate()"
   ]
  },
  {
   "cell_type": "code",
   "execution_count": 10,
   "metadata": {},
   "outputs": [],
   "source": [
    "df_train = spark.read.csv(\"../data/raw/train.csv\", header=True, inferSchema=True)"
   ]
  },
  {
   "cell_type": "code",
   "execution_count": 11,
   "metadata": {},
   "outputs": [
    {
     "name": "stdout",
     "output_type": "stream",
     "text": [
      "+------+----------+---------+---------+--------+-----------+\n",
      "|    id|      date|store_nbr|   family|   sales|onpromotion|\n",
      "+------+----------+---------+---------+--------+-----------+\n",
      "|814350|2014-04-03|        9|     DELI|602.9347|         56|\n",
      "|814351|2014-04-03|        9|     EGGS|   136.0|         20|\n",
      "|814365|2014-04-03|        9|    MEATS|404.3831|         19|\n",
      "|814369|2014-04-03|        9|  POULTRY|685.4219|         20|\n",
      "|826824|2014-04-10|        9|     DELI|488.5654|         56|\n",
      "|826825|2014-04-10|        9|     EGGS|   199.0|         18|\n",
      "|826839|2014-04-10|        9|    MEATS| 354.483|         18|\n",
      "|826843|2014-04-10|        9|  POULTRY|567.8412|         17|\n",
      "|828609|2014-04-11|        9|GROCERY I|3728.643|         12|\n",
      "|835044|2014-04-15|       39|GROCERY I|3484.952|         10|\n",
      "|836826|2014-04-16|       39|GROCERY I|3482.206|         10|\n",
      "|837846|2014-04-17|       18|     DELI|136.3545|         50|\n",
      "|837847|2014-04-17|       18|     EGGS|   112.0|         19|\n",
      "|837861|2014-04-17|       18|    MEATS|162.8255|         19|\n",
      "|837865|2014-04-17|       18|  POULTRY|165.4432|         19|\n",
      "|838209|2014-04-17|       28|     DELI| 216.381|         50|\n",
      "|838210|2014-04-17|       28|     EGGS|   159.0|         19|\n",
      "|838224|2014-04-17|       28|    MEATS|119.0109|         17|\n",
      "|838228|2014-04-17|       28|  POULTRY| 171.098|         16|\n",
      "|838605|2014-04-17|       39|     DELI|150.1024|         42|\n",
      "+------+----------+---------+---------+--------+-----------+\n",
      "only showing top 20 rows\n",
      "\n"
     ]
    }
   ],
   "source": [
    "df_train.filter(\"onpromotion>=10\").show()"
   ]
  },
  {
   "cell_type": "code",
   "execution_count": 12,
   "metadata": {},
   "outputs": [
    {
     "name": "stdout",
     "output_type": "stream",
     "text": [
      "+---------+--------+\n",
      "|   family|   sales|\n",
      "+---------+--------+\n",
      "|     DELI|602.9347|\n",
      "|     EGGS|   136.0|\n",
      "|    MEATS|404.3831|\n",
      "|  POULTRY|685.4219|\n",
      "|     DELI|488.5654|\n",
      "|     EGGS|   199.0|\n",
      "|    MEATS| 354.483|\n",
      "|  POULTRY|567.8412|\n",
      "|GROCERY I|3728.643|\n",
      "|GROCERY I|3484.952|\n",
      "|GROCERY I|3482.206|\n",
      "|     DELI|136.3545|\n",
      "|     EGGS|   112.0|\n",
      "|    MEATS|162.8255|\n",
      "|  POULTRY|165.4432|\n",
      "|     DELI| 216.381|\n",
      "|     EGGS|   159.0|\n",
      "|    MEATS|119.0109|\n",
      "|  POULTRY| 171.098|\n",
      "|     DELI|150.1024|\n",
      "+---------+--------+\n",
      "only showing top 20 rows\n",
      "\n"
     ]
    }
   ],
   "source": [
    "df_train.filter(\"onpromotion>=10\").select([\"family\",\"sales\"]).show()"
   ]
  },
  {
   "cell_type": "code",
   "execution_count": 13,
   "metadata": {},
   "outputs": [
    {
     "name": "stdout",
     "output_type": "stream",
     "text": [
      "+------+----------+---------+---------+--------+-----------+\n",
      "|    id|      date|store_nbr|   family|   sales|onpromotion|\n",
      "+------+----------+---------+---------+--------+-----------+\n",
      "|814350|2014-04-03|        9|     DELI|602.9347|         56|\n",
      "|814351|2014-04-03|        9|     EGGS|   136.0|         20|\n",
      "|814365|2014-04-03|        9|    MEATS|404.3831|         19|\n",
      "|814369|2014-04-03|        9|  POULTRY|685.4219|         20|\n",
      "|826824|2014-04-10|        9|     DELI|488.5654|         56|\n",
      "|826825|2014-04-10|        9|     EGGS|   199.0|         18|\n",
      "|826839|2014-04-10|        9|    MEATS| 354.483|         18|\n",
      "|826843|2014-04-10|        9|  POULTRY|567.8412|         17|\n",
      "|828609|2014-04-11|        9|GROCERY I|3728.643|         12|\n",
      "|837846|2014-04-17|       18|     DELI|136.3545|         50|\n",
      "|837847|2014-04-17|       18|     EGGS|   112.0|         19|\n",
      "|837861|2014-04-17|       18|    MEATS|162.8255|         19|\n",
      "|837865|2014-04-17|       18|  POULTRY|165.4432|         19|\n",
      "|838209|2014-04-17|       28|     DELI| 216.381|         50|\n",
      "|838210|2014-04-17|       28|     EGGS|   159.0|         19|\n",
      "|838224|2014-04-17|       28|    MEATS|119.0109|         17|\n",
      "|838228|2014-04-17|       28|  POULTRY| 171.098|         16|\n",
      "|838605|2014-04-17|       39|     DELI|150.1024|         42|\n",
      "|838606|2014-04-17|       39|     EGGS|   295.0|         20|\n",
      "|838620|2014-04-17|       39|    MEATS| 149.466|         16|\n",
      "+------+----------+---------+---------+--------+-----------+\n",
      "only showing top 20 rows\n",
      "\n"
     ]
    }
   ],
   "source": [
    "df_train.filter(~(df_train[\"onpromotion\"]<=10)).show()"
   ]
  },
  {
   "cell_type": "code",
   "execution_count": 14,
   "metadata": {},
   "outputs": [
    {
     "name": "stdout",
     "output_type": "stream",
     "text": [
      "+------+----------+---------+---------+--------+-----------+\n",
      "|    id|      date|store_nbr|   family|   sales|onpromotion|\n",
      "+------+----------+---------+---------+--------+-----------+\n",
      "|814351|2014-04-03|        9|     EGGS|   136.0|         20|\n",
      "|814365|2014-04-03|        9|    MEATS|404.3831|         19|\n",
      "|814369|2014-04-03|        9|  POULTRY|685.4219|         20|\n",
      "|826825|2014-04-10|        9|     EGGS|   199.0|         18|\n",
      "|826839|2014-04-10|        9|    MEATS| 354.483|         18|\n",
      "|826843|2014-04-10|        9|  POULTRY|567.8412|         17|\n",
      "|828609|2014-04-11|        9|GROCERY I|3728.643|         12|\n",
      "|835044|2014-04-15|       39|GROCERY I|3484.952|         10|\n",
      "|836826|2014-04-16|       39|GROCERY I|3482.206|         10|\n",
      "|837847|2014-04-17|       18|     EGGS|   112.0|         19|\n",
      "|837861|2014-04-17|       18|    MEATS|162.8255|         19|\n",
      "|837865|2014-04-17|       18|  POULTRY|165.4432|         19|\n",
      "|838210|2014-04-17|       28|     EGGS|   159.0|         19|\n",
      "|838224|2014-04-17|       28|    MEATS|119.0109|         17|\n",
      "|838228|2014-04-17|       28|  POULTRY| 171.098|         16|\n",
      "|838606|2014-04-17|       39|     EGGS|   295.0|         20|\n",
      "|838620|2014-04-17|       39|    MEATS| 149.466|         16|\n",
      "|838624|2014-04-17|       39|  POULTRY|167.5024|         20|\n",
      "|839299|2014-04-17|        9|     EGGS|   353.0|         18|\n",
      "|839313|2014-04-17|        9|    MEATS|272.4773|         18|\n",
      "+------+----------+---------+---------+--------+-----------+\n",
      "only showing top 20 rows\n",
      "\n"
     ]
    }
   ],
   "source": [
    "df_train.filter((df_train[\"onpromotion\"]>=10) & (df_train[\"onpromotion\"]<=20)).show()"
   ]
  },
  {
   "cell_type": "code",
   "execution_count": 15,
   "metadata": {},
   "outputs": [
    {
     "name": "stdout",
     "output_type": "stream",
     "text": [
      "+---------+--------+\n",
      "|   family|   sales|\n",
      "+---------+--------+\n",
      "|     EGGS|   136.0|\n",
      "|    MEATS|404.3831|\n",
      "|  POULTRY|685.4219|\n",
      "|     EGGS|   199.0|\n",
      "|    MEATS| 354.483|\n",
      "|  POULTRY|567.8412|\n",
      "|GROCERY I|3728.643|\n",
      "|GROCERY I|3484.952|\n",
      "|GROCERY I|3482.206|\n",
      "|     EGGS|   112.0|\n",
      "|    MEATS|162.8255|\n",
      "|  POULTRY|165.4432|\n",
      "|     EGGS|   159.0|\n",
      "|    MEATS|119.0109|\n",
      "|  POULTRY| 171.098|\n",
      "|     EGGS|   295.0|\n",
      "|    MEATS| 149.466|\n",
      "|  POULTRY|167.5024|\n",
      "|     EGGS|   353.0|\n",
      "|    MEATS|272.4773|\n",
      "+---------+--------+\n",
      "only showing top 20 rows\n",
      "\n"
     ]
    }
   ],
   "source": [
    "df_train.filter((df_train[\"onpromotion\"]>=10) & (df_train[\"onpromotion\"]<=20)).select([\"family\",\"sales\"]).show()"
   ]
  },
  {
   "cell_type": "code",
   "execution_count": 16,
   "metadata": {},
   "outputs": [
    {
     "name": "stdout",
     "output_type": "stream",
     "text": [
      "+-------------------+------------+--------------+--------------------+----------------+\n",
      "|             family|     sum(id)|sum(store_nbr)|          sum(sales)|sum(onpromotion)|\n",
      "+-------------------+------------+--------------+--------------------+----------------+\n",
      "|     PREPARED FOODS|136445512284|       2500740|   8799895.116942495|           37524|\n",
      "|HOME AND KITCHEN II|136444330116|       2500740|           1520670.0|           32814|\n",
      "|         LADIESWEAR|136444602924|       2500740|            651159.0|            1680|\n",
      "|    LAWN AND GARDEN|136444693860|       2500740|            548842.0|           11208|\n",
      "|          GROCERY I|136443966372|       2500740|3.4346273488600004E8|         1914801|\n",
      "|          BABY CARE|136442966076|       2500740|             10051.0|              53|\n",
      "|            PRODUCE|136445603220|       2500740|   1.2270468467646E8|         1117921|\n",
      "|         AUTOMOTIVE|136442875140|       2500740|            554822.0|            4783|\n",
      "|          BEVERAGES|136443147948|       2500740|        2.16954486E8|          906958|\n",
      "|          HOME CARE|136444511988|       2500740|         1.6022744E7|          197230|\n",
      "|       BREAD/BAKERY|136443329820|       2500740|   4.2133945576369E7|          331289|\n",
      "|              BOOKS|136443238884|       2500740|              6438.0|               0|\n",
      "|           LINGERIE|136444784796|       2500740|            653114.0|            2815|\n",
      "|        CELEBRATION|136443420756|       2500740|            761177.0|            6723|\n",
      "|         GROCERY II|136444057308|       2500740|           1962767.0|            7347|\n",
      "|              DAIRY|136443602628|       2500740|         6.4487709E7|          728707|\n",
      "|          MAGAZINES|136444966668|       2500740|            266359.0|             297|\n",
      "|            SEAFOOD|136445785092|       2500740|     2015431.8828236|           39052|\n",
      "|   LIQUOR,WINE,BEER|136444875732|       2500740|           7746640.0|           46700|\n",
      "| HOME AND KITCHEN I|136444239180|       2500740|           1861491.0|           46921|\n",
      "+-------------------+------------+--------------+--------------------+----------------+\n",
      "only showing top 20 rows\n",
      "\n"
     ]
    }
   ],
   "source": [
    "df_train.groupBy(\"family\").sum().show()"
   ]
  },
  {
   "cell_type": "code",
   "execution_count": 17,
   "metadata": {},
   "outputs": [
    {
     "name": "stdout",
     "output_type": "stream",
     "text": [
      "+-----------+-------+\n",
      "|onpromotion|  count|\n",
      "+-----------+-------+\n",
      "|          0|2389559|\n",
      "|        148|     48|\n",
      "|         31|   2452|\n",
      "|        137|     75|\n",
      "|         65|    720|\n",
      "|         53|   1360|\n",
      "|        133|     93|\n",
      "|        155|     29|\n",
      "|        108|    133|\n",
      "|         34|   2041|\n",
      "|        101|    153|\n",
      "|        126|    127|\n",
      "|         28|   2824|\n",
      "|         26|   2772|\n",
      "|         27|   2862|\n",
      "|         44|   1658|\n",
      "|        192|     43|\n",
      "|        103|    145|\n",
      "|         12|   9655|\n",
      "|         91|    185|\n",
      "+-----------+-------+\n",
      "only showing top 20 rows\n",
      "\n"
     ]
    }
   ],
   "source": [
    "df_train.groupBy(\"onpromotion\").count().show()"
   ]
  },
  {
   "cell_type": "code",
   "execution_count": 18,
   "metadata": {},
   "outputs": [
    {
     "name": "stdout",
     "output_type": "stream",
     "text": [
      "+--------------------+\n",
      "|          sum(sales)|\n",
      "+--------------------+\n",
      "|1.0736449522030698E9|\n",
      "+--------------------+\n",
      "\n"
     ]
    }
   ],
   "source": [
    "df_train.agg({\"sales\":\"sum\"}).show()"
   ]
  },
  {
   "cell_type": "code",
   "execution_count": 19,
   "metadata": {},
   "outputs": [
    {
     "name": "stdout",
     "output_type": "stream",
     "text": [
      "+-------------------+-------+--------------+----------+----------------+\n",
      "|             family|max(id)|max(store_nbr)|max(sales)|max(onpromotion)|\n",
      "+-------------------+-------+--------------+----------+----------------+\n",
      "|     PREPARED FOODS|3000884|            54|   912.568|              14|\n",
      "|HOME AND KITCHEN II|3000871|            54|    1568.0|              20|\n",
      "|         LADIESWEAR|3000874|            54|     147.0|              19|\n",
      "|    LAWN AND GARDEN|3000875|            54|     712.0|              15|\n",
      "|          GROCERY I|3000867|            54|  124717.0|             741|\n",
      "|          BABY CARE|3000856|            54|     116.0|               1|\n",
      "|            PRODUCE|3000885|            54| 17850.615|             252|\n",
      "|         AUTOMOTIVE|3000855|            54|     255.0|               8|\n",
      "|          BEVERAGES|3000858|            54|   25413.0|             342|\n",
      "|          HOME CARE|3000873|            54|    2504.0|              71|\n",
      "|       BREAD/BAKERY|3000860|            54|  4551.298|             104|\n",
      "|              BOOKS|3000859|            54|      51.0|               0|\n",
      "|           LINGERIE|3000876|            54|    1059.0|              12|\n",
      "|        CELEBRATION|3000861|            54|    1783.0|              14|\n",
      "|         GROCERY II|3000868|            54|    2931.0|               7|\n",
      "|              DAIRY|3000863|            54|    5636.0|             167|\n",
      "|          MAGAZINES|3000878|            54|      79.0|               6|\n",
      "|            SEAFOOD|3000887|            54|    274.44|               7|\n",
      "|   LIQUOR,WINE,BEER|3000877|            54|    4821.0|              27|\n",
      "| HOME AND KITCHEN I|3000870|            54|    1935.0|              31|\n",
      "+-------------------+-------+--------------+----------+----------------+\n",
      "only showing top 20 rows\n",
      "\n"
     ]
    }
   ],
   "source": [
    "df_train.groupBy(\"family\").max().show()"
   ]
  }
 ],
 "metadata": {
  "kernelspec": {
   "display_name": "Python 3",
   "language": "python",
   "name": "python3"
  },
  "language_info": {
   "codemirror_mode": {
    "name": "ipython",
    "version": 3
   },
   "file_extension": ".py",
   "mimetype": "text/x-python",
   "name": "python",
   "nbconvert_exporter": "python",
   "pygments_lexer": "ipython3",
   "version": "3.11.3"
  }
 },
 "nbformat": 4,
 "nbformat_minor": 2
}

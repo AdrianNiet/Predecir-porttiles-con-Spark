{
 "cells": [
  {
   "cell_type": "code",
   "execution_count": 26,
   "metadata": {},
   "outputs": [],
   "source": [
    "from pyspark.sql import SparkSession\n",
    "from pyspark.sql.functions import isnan, when, count, col, isnull\n",
    "from pyspark.ml.feature import Imputer,VectorAssembler\n",
    "from pyspark.ml.regression import LinearRegression"
   ]
  },
  {
   "cell_type": "code",
   "execution_count": 15,
   "metadata": {},
   "outputs": [],
   "source": [
    "spark = SparkSession.builder.appName(\"practica\").getOrCreate()"
   ]
  },
  {
   "cell_type": "code",
   "execution_count": 16,
   "metadata": {},
   "outputs": [],
   "source": [
    "df_train = spark.read.csv(\"../data/raw/train.csv\", header=True, inferSchema=True)"
   ]
  },
  {
   "cell_type": "code",
   "execution_count": 17,
   "metadata": {},
   "outputs": [
    {
     "name": "stdout",
     "output_type": "stream",
     "text": [
      "+---+----------+---------+-------------------+-----+-----------+\n",
      "| id|      date|store_nbr|             family|sales|onpromotion|\n",
      "+---+----------+---------+-------------------+-----+-----------+\n",
      "|  0|2013-01-01|        1|         AUTOMOTIVE|  0.0|          0|\n",
      "|  1|2013-01-01|        1|          BABY CARE|  0.0|          0|\n",
      "|  2|2013-01-01|        1|             BEAUTY|  0.0|          0|\n",
      "|  3|2013-01-01|        1|          BEVERAGES|  0.0|          0|\n",
      "|  4|2013-01-01|        1|              BOOKS|  0.0|          0|\n",
      "|  5|2013-01-01|        1|       BREAD/BAKERY|  0.0|          0|\n",
      "|  6|2013-01-01|        1|        CELEBRATION|  0.0|          0|\n",
      "|  7|2013-01-01|        1|           CLEANING|  0.0|          0|\n",
      "|  8|2013-01-01|        1|              DAIRY|  0.0|          0|\n",
      "|  9|2013-01-01|        1|               DELI|  0.0|          0|\n",
      "| 10|2013-01-01|        1|               EGGS|  0.0|          0|\n",
      "| 11|2013-01-01|        1|       FROZEN FOODS|  0.0|          0|\n",
      "| 12|2013-01-01|        1|          GROCERY I|  0.0|          0|\n",
      "| 13|2013-01-01|        1|         GROCERY II|  0.0|          0|\n",
      "| 14|2013-01-01|        1|           HARDWARE|  0.0|          0|\n",
      "| 15|2013-01-01|        1| HOME AND KITCHEN I|  0.0|          0|\n",
      "| 16|2013-01-01|        1|HOME AND KITCHEN II|  0.0|          0|\n",
      "| 17|2013-01-01|        1|    HOME APPLIANCES|  0.0|          0|\n",
      "| 18|2013-01-01|        1|          HOME CARE|  0.0|          0|\n",
      "| 19|2013-01-01|        1|         LADIESWEAR|  0.0|          0|\n",
      "+---+----------+---------+-------------------+-----+-----------+\n",
      "only showing top 20 rows\n",
      "\n"
     ]
    }
   ],
   "source": [
    "df_train.show()"
   ]
  },
  {
   "cell_type": "code",
   "execution_count": 18,
   "metadata": {},
   "outputs": [
    {
     "name": "stdout",
     "output_type": "stream",
     "text": [
      "root\n",
      " |-- id: integer (nullable = true)\n",
      " |-- date: date (nullable = true)\n",
      " |-- store_nbr: integer (nullable = true)\n",
      " |-- family: string (nullable = true)\n",
      " |-- sales: double (nullable = true)\n",
      " |-- onpromotion: integer (nullable = true)\n",
      "\n"
     ]
    }
   ],
   "source": [
    "df_train.printSchema()"
   ]
  },
  {
   "cell_type": "code",
   "execution_count": 19,
   "metadata": {},
   "outputs": [],
   "source": [
    "assembler =VectorAssembler(inputCols=[\"store_nbr\",\"sales\"], outputCol=\"features\")"
   ]
  },
  {
   "cell_type": "code",
   "execution_count": 20,
   "metadata": {},
   "outputs": [],
   "source": [
    "output = assembler.transform(df_train)"
   ]
  },
  {
   "cell_type": "code",
   "execution_count": 22,
   "metadata": {},
   "outputs": [
    {
     "name": "stdout",
     "output_type": "stream",
     "text": [
      "+---+----------+---------+-------------------+-----+-----------+-------------------+\n",
      "| id|      date|store_nbr|             family|sales|onpromotion|independant_feature|\n",
      "+---+----------+---------+-------------------+-----+-----------+-------------------+\n",
      "|  0|2013-01-01|        1|         AUTOMOTIVE|  0.0|          0|          [1.0,0.0]|\n",
      "|  1|2013-01-01|        1|          BABY CARE|  0.0|          0|          [1.0,0.0]|\n",
      "|  2|2013-01-01|        1|             BEAUTY|  0.0|          0|          [1.0,0.0]|\n",
      "|  3|2013-01-01|        1|          BEVERAGES|  0.0|          0|          [1.0,0.0]|\n",
      "|  4|2013-01-01|        1|              BOOKS|  0.0|          0|          [1.0,0.0]|\n",
      "|  5|2013-01-01|        1|       BREAD/BAKERY|  0.0|          0|          [1.0,0.0]|\n",
      "|  6|2013-01-01|        1|        CELEBRATION|  0.0|          0|          [1.0,0.0]|\n",
      "|  7|2013-01-01|        1|           CLEANING|  0.0|          0|          [1.0,0.0]|\n",
      "|  8|2013-01-01|        1|              DAIRY|  0.0|          0|          [1.0,0.0]|\n",
      "|  9|2013-01-01|        1|               DELI|  0.0|          0|          [1.0,0.0]|\n",
      "| 10|2013-01-01|        1|               EGGS|  0.0|          0|          [1.0,0.0]|\n",
      "| 11|2013-01-01|        1|       FROZEN FOODS|  0.0|          0|          [1.0,0.0]|\n",
      "| 12|2013-01-01|        1|          GROCERY I|  0.0|          0|          [1.0,0.0]|\n",
      "| 13|2013-01-01|        1|         GROCERY II|  0.0|          0|          [1.0,0.0]|\n",
      "| 14|2013-01-01|        1|           HARDWARE|  0.0|          0|          [1.0,0.0]|\n",
      "| 15|2013-01-01|        1| HOME AND KITCHEN I|  0.0|          0|          [1.0,0.0]|\n",
      "| 16|2013-01-01|        1|HOME AND KITCHEN II|  0.0|          0|          [1.0,0.0]|\n",
      "| 17|2013-01-01|        1|    HOME APPLIANCES|  0.0|          0|          [1.0,0.0]|\n",
      "| 18|2013-01-01|        1|          HOME CARE|  0.0|          0|          [1.0,0.0]|\n",
      "| 19|2013-01-01|        1|         LADIESWEAR|  0.0|          0|          [1.0,0.0]|\n",
      "+---+----------+---------+-------------------+-----+-----------+-------------------+\n",
      "only showing top 20 rows\n",
      "\n"
     ]
    }
   ],
   "source": [
    "output.show()"
   ]
  },
  {
   "cell_type": "code",
   "execution_count": 29,
   "metadata": {},
   "outputs": [],
   "source": [
    "data_final = output.select(\"independant_feature\",\"sales\")"
   ]
  },
  {
   "cell_type": "code",
   "execution_count": 30,
   "metadata": {},
   "outputs": [],
   "source": [
    "train_data, test_data = data_final.randomSplit([0.75,0.25])\n",
    "\n",
    "regressor= LinearRegression(featuresCol=\"features\",labelCol=\"sales\")\n",
    "\n",
    "regressor=regressor.fit(train_data)"
   ]
  },
  {
   "cell_type": "code",
   "execution_count": 32,
   "metadata": {},
   "outputs": [
    {
     "data": {
      "text/plain": [
       "DenseVector([0.0, 1.0])"
      ]
     },
     "execution_count": 32,
     "metadata": {},
     "output_type": "execute_result"
    }
   ],
   "source": [
    "regressor.coefficients"
   ]
  },
  {
   "cell_type": "code",
   "execution_count": 33,
   "metadata": {},
   "outputs": [
    {
     "data": {
      "text/plain": [
       "0.0"
      ]
     },
     "execution_count": 33,
     "metadata": {},
     "output_type": "execute_result"
    }
   ],
   "source": [
    "regressor.intercept"
   ]
  },
  {
   "cell_type": "code",
   "execution_count": 34,
   "metadata": {},
   "outputs": [],
   "source": [
    "resultados = regressor.evaluate(test_data)"
   ]
  },
  {
   "cell_type": "code",
   "execution_count": 35,
   "metadata": {},
   "outputs": [
    {
     "name": "stdout",
     "output_type": "stream",
     "text": [
      "+-------------------+-----+----------+\n",
      "|independant_feature|sales|prediction|\n",
      "+-------------------+-----+----------+\n",
      "|          [1.0,0.0]|  0.0|       0.0|\n",
      "|          [1.0,0.0]|  0.0|       0.0|\n",
      "|          [1.0,0.0]|  0.0|       0.0|\n",
      "|          [1.0,0.0]|  0.0|       0.0|\n",
      "|          [1.0,0.0]|  0.0|       0.0|\n",
      "|          [1.0,0.0]|  0.0|       0.0|\n",
      "|          [1.0,0.0]|  0.0|       0.0|\n",
      "|          [1.0,0.0]|  0.0|       0.0|\n",
      "|          [1.0,0.0]|  0.0|       0.0|\n",
      "|          [1.0,0.0]|  0.0|       0.0|\n",
      "|          [1.0,0.0]|  0.0|       0.0|\n",
      "|          [1.0,0.0]|  0.0|       0.0|\n",
      "|          [1.0,0.0]|  0.0|       0.0|\n",
      "|          [1.0,0.0]|  0.0|       0.0|\n",
      "|          [1.0,0.0]|  0.0|       0.0|\n",
      "|          [1.0,0.0]|  0.0|       0.0|\n",
      "|          [1.0,0.0]|  0.0|       0.0|\n",
      "|          [1.0,0.0]|  0.0|       0.0|\n",
      "|          [1.0,0.0]|  0.0|       0.0|\n",
      "|          [1.0,0.0]|  0.0|       0.0|\n",
      "+-------------------+-----+----------+\n",
      "only showing top 20 rows\n",
      "\n"
     ]
    }
   ],
   "source": [
    "resultados.predictions.show()"
   ]
  },
  {
   "cell_type": "code",
   "execution_count": 36,
   "metadata": {},
   "outputs": [
    {
     "data": {
      "text/plain": [
       "(0.0, 0.0)"
      ]
     },
     "execution_count": 36,
     "metadata": {},
     "output_type": "execute_result"
    }
   ],
   "source": [
    "resultados.meanAbsoluteError, resultados.meanSquaredError"
   ]
  },
  {
   "cell_type": "code",
   "execution_count": null,
   "metadata": {},
   "outputs": [],
   "source": []
  }
 ],
 "metadata": {
  "kernelspec": {
   "display_name": "Python 3",
   "language": "python",
   "name": "python3"
  },
  "language_info": {
   "codemirror_mode": {
    "name": "ipython",
    "version": 3
   },
   "file_extension": ".py",
   "mimetype": "text/x-python",
   "name": "python",
   "nbconvert_exporter": "python",
   "pygments_lexer": "ipython3",
   "version": "3.11.3"
  }
 },
 "nbformat": 4,
 "nbformat_minor": 2
}

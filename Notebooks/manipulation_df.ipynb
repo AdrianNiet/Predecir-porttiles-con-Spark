{
 "cells": [
  {
   "cell_type": "code",
   "execution_count": 69,
   "metadata": {},
   "outputs": [],
   "source": [
    "from pyspark.sql import SparkSession\n",
    "from pyspark.sql.functions import isnan, when, count, col, isnull, pow, sqrt,regexp_extract,regexp_replace\n",
    "from pyspark.ml.feature import Imputer\n",
    "import os\n",
    "\n",
    "#El objetivo es crear un modelo donde podamos realizar predicciones.\n",
    "\n",
    "#En este notebook se realizaran las labores de limpieza."
   ]
  },
  {
   "cell_type": "code",
   "execution_count": 70,
   "metadata": {},
   "outputs": [],
   "source": [
    "spark = SparkSession.builder.appName(\"practica\").getOrCreate()\n",
    "spark.conf.set(\"spark.hadoop.mapreduce.fileoutputcommitter.marksuccessfuljobs\", \"false\")"
   ]
  },
  {
   "cell_type": "code",
   "execution_count": 71,
   "metadata": {},
   "outputs": [],
   "source": [
    "df_train = spark.read.csv(\"../data/raw-kaggle/train.csv\", header=True, inferSchema=True)"
   ]
  },
  {
   "cell_type": "code",
   "execution_count": 72,
   "metadata": {},
   "outputs": [
    {
     "name": "stdout",
     "output_type": "stream",
     "text": [
      "+----+---------+-------+--------------------+------------------+------+--------------------+--------------------+----+--------------------+--------------------+----------+------+-----------+\n",
      "|  id|laptop_ID|Company|             Product|          TypeName|Inches|    ScreenResolution|                 Cpu| Ram|              Memory|                 Gpu|     OpSys|Weight|Price_euros|\n",
      "+----+---------+-------+--------------------+------------------+------+--------------------+--------------------+----+--------------------+--------------------+----------+------+-----------+\n",
      "| 268|     1002|   Dell|       Inspiron 5567|          Notebook|  15.6|            1366x768|Intel Core i7 750...| 8GB|             1TB HDD|  AMD Radeon R7 M445|Windows 10|2.36kg|      749.0|\n",
      "| 347|      867|   Asus|X541NA (N4200/4GB...|          Notebook|  15.6|            1366x768|Intel Pentium Qua...| 4GB|             1TB HDD|Intel HD Graphics...|Windows 10|   2kg|      449.0|\n",
      "| 353|      966|Toshiba|   Portege Z30-C-1CW|          Notebook|  13.3|   Full HD 1920x1080|Intel Core i5 620...| 8GB|           256GB SSD|Intel HD Graphics...| Windows 7| 1.2kg|     1460.0|\n",
      "| 578|      767|   Dell|        Alienware 17|            Gaming|  15.6|IPS Panel 4K Ultr...|Intel Core i7 770...|16GB|256GB SSD +  1TB HDD|Nvidia GeForce GT...|Windows 10|4.42kg|    2868.99|\n",
      "|  42|     1241|   Dell|      Latitude E7270|         Ultrabook|  12.5|Full HD / Touchsc...|Intel Core i5 630...| 8GB|           256GB SSD|Intel HD Graphics...| Windows 7|1.26kg|    1713.37|\n",
      "| 867|      376|   Asus|        ZenBook Flip|2 in 1 Convertible|  15.6|Full HD / Touchsc...|Intel Core i7 750...|12GB|512GB SSD +  2TB HDD|Nvidia GeForce GT...|Windows 10|2.26kg|     1099.0|\n",
      "|1136|       60|   Asus|X541UA-DM1897 (i3...|          Notebook|  15.6|   Full HD 1920x1080|Intel Core i3 600...| 4GB|           256GB SSD|Intel HD Graphics...|     Linux|   2kg|      415.0|\n",
      "| 609|     1157|    MSI|          GP62M 7RDX|            Gaming|  15.6|   Full HD 1920x1080|Intel Core i7 770...| 8GB|128GB SSD +  1TB HDD|Nvidia GeForce GT...|Windows 10| 2.4kg|     1142.8|\n",
      "| 474|      110|   Asus|UX430UQ-GV209R (i...|         Ultrabook|  14.0|IPS Panel Full HD...|Intel Core i7 750...| 8GB|           256GB SSD|Nvidia GeForce 940MX|Windows 10| 1.3kg|     1193.0|\n",
      "| 838|     1263|   Asus|  Rog GL553VE-FY052T|            Gaming|  15.6|IPS Panel Full HD...|Intel Core i7 770...|16GB|256GB SSD +  1TB HDD|Nvidia GeForce GT...|Windows 10| 2.5kg|     1600.0|\n",
      "| 851|     1243|   Asus|X540SA-RBPDN09 (N...|          Notebook|  15.6|            1366x768|Intel Pentium Qua...| 4GB|             1TB HDD|Intel HD Graphics...|Windows 10|2.65kg|      309.0|\n",
      "| 904|       79|   Dell|       Inspiron 5570|          Notebook|  15.6|   Full HD 1920x1080|Intel Core i7 855...| 8GB|128GB SSD +  1TB HDD|Intel UHD Graphic...|Windows 10|2.02kg|      855.0|\n",
      "| 355|      957|Toshiba|     Tecra A50-C-1ZV|          Notebook|  15.6|            1366x768|Intel Core i5 620...| 8GB|           256GB SSD|Intel HD Graphics...|Windows 10| 2.2kg|     1119.0|\n",
      "|  44|      579|     HP|15-cd005nv (A9-94...|          Notebook|  15.6|IPS Panel Full HD...|AMD A9-Series A9-...| 6GB|           256GB SSD|      AMD Radeon 530|Windows 10|1.95kg|      649.0|\n",
      "|  36|      834|Toshiba|       Satellite Pro|          Notebook|  14.0|            1366x768|Intel Pentium Dua...| 4GB|           128GB SSD|Intel HD Graphics...|Windows 10|1.75kg|      499.0|\n",
      "| 971|       82|   Dell|       Latitude 5590|         Ultrabook|  15.6|IPS Panel Full HD...|Intel Core i5 825...| 8GB|           256GB SSD|Intel UHD Graphic...|Windows 10|1.88kg|    1096.16|\n",
      "| 938|      159| Lenovo|      Yoga 520-14IKB|2 in 1 Convertible|  14.0|IPS Panel Full HD...|Intel Core i3 710...| 4GB|           256GB SSD|Intel HD Graphics...|Windows 10|1.74kg|      629.0|\n",
      "| 718|      332|   Acer|       Aspire E5-575|          Notebook|  15.6|            1366x768|Intel Core i5 720...| 6GB|             1TB HDD|Intel HD Graphics...|Windows 10|2.23kg|      549.0|\n",
      "| 518|      617| Lenovo|        Thinkpad P51|          Notebook|  15.6|IPS Panel 4K Ultr...|Intel Xeon E3-153...|32GB|             1TB SSD|Nvidia Quadro M2200M|Windows 10| 2.5kg|     4899.0|\n",
      "|1126|      172|   Acer|     Aspire A517-51G|          Notebook|  17.3|IPS Panel Full HD...|Intel Core i5 825...| 8GB|           256GB SSD|Nvidia GeForce MX150|Windows 10|   3kg|      854.0|\n",
      "+----+---------+-------+--------------------+------------------+------+--------------------+--------------------+----+--------------------+--------------------+----------+------+-----------+\n",
      "only showing top 20 rows\n",
      "\n"
     ]
    }
   ],
   "source": [
    "df_train.show()"
   ]
  },
  {
   "cell_type": "code",
   "execution_count": 73,
   "metadata": {},
   "outputs": [
    {
     "name": "stdout",
     "output_type": "stream",
     "text": [
      "+---------+\n",
      "|  Company|\n",
      "+---------+\n",
      "|    Razer|\n",
      "|  Fujitsu|\n",
      "|   Huawei|\n",
      "|   Xiaomi|\n",
      "|       HP|\n",
      "|     Dell|\n",
      "|     Vero|\n",
      "|     Acer|\n",
      "|     Asus|\n",
      "|   Lenovo|\n",
      "| Mediacom|\n",
      "|  Samsung|\n",
      "|   Google|\n",
      "|       LG|\n",
      "|    Chuwi|\n",
      "|Microsoft|\n",
      "|    Apple|\n",
      "|      MSI|\n",
      "|  Toshiba|\n",
      "+---------+\n",
      "\n"
     ]
    }
   ],
   "source": [
    "#vamos a ver los valores unicos de cada columna.\n",
    "df_train.select(\"Company\").distinct().show()"
   ]
  },
  {
   "cell_type": "code",
   "execution_count": 74,
   "metadata": {},
   "outputs": [
    {
     "name": "stdout",
     "output_type": "stream",
     "text": [
      "+--------------------+\n",
      "|             Product|\n",
      "+--------------------+\n",
      "|              XPS 13|\n",
      "|   Legion Y720-15IKB|\n",
      "|V310-15ISK (i3-60...|\n",
      "|       Aspire E5-575|\n",
      "|       LifeBook A556|\n",
      "|FX503VM-E4007T (i...|\n",
      "|       Inspiron 5370|\n",
      "|FX753VD-GC086T (i...|\n",
      "|          GS60 Ghost|\n",
      "|V310-15IKB (i5-72...|\n",
      "|         ProBook 470|\n",
      "|      Surface Laptop|\n",
      "|     Tecra A50-D-11M|\n",
      "|      Aspire F5-573G|\n",
      "|          GL62M 7RDX|\n",
      "|     Tecra A50-D-11D|\n",
      "|   TravelMate B117-M|\n",
      "|       Thinkpad E470|\n",
      "|     ZenBook UX430UA|\n",
      "|V110-15IKB (i5-72...|\n",
      "+--------------------+\n",
      "only showing top 20 rows\n",
      "\n"
     ]
    }
   ],
   "source": [
    "#Este parece tener muchos mas.\n",
    "df_train.select(\"Product\").distinct().show()"
   ]
  },
  {
   "cell_type": "code",
   "execution_count": 75,
   "metadata": {},
   "outputs": [
    {
     "name": "stdout",
     "output_type": "stream",
     "text": [
      "+------------------+\n",
      "|          TypeName|\n",
      "+------------------+\n",
      "|            Gaming|\n",
      "|         Ultrabook|\n",
      "|2 in 1 Convertible|\n",
      "|       Workstation|\n",
      "|          Notebook|\n",
      "|           Netbook|\n",
      "+------------------+\n",
      "\n"
     ]
    }
   ],
   "source": [
    "df_train.select(\"TypeName\").distinct().show()"
   ]
  },
  {
   "cell_type": "code",
   "execution_count": 76,
   "metadata": {},
   "outputs": [
    {
     "name": "stdout",
     "output_type": "stream",
     "text": [
      "+------+\n",
      "|Inches|\n",
      "+------+\n",
      "|  15.4|\n",
      "|  11.6|\n",
      "|  17.3|\n",
      "|  13.3|\n",
      "|  12.5|\n",
      "|  12.3|\n",
      "|  18.4|\n",
      "|  10.1|\n",
      "|  13.5|\n",
      "|  13.9|\n",
      "|  14.0|\n",
      "|  13.0|\n",
      "|  15.0|\n",
      "|  15.6|\n",
      "|  12.0|\n",
      "+------+\n",
      "\n"
     ]
    }
   ],
   "source": [
    "df_train.select(\"Inches\").distinct().show()"
   ]
  },
  {
   "cell_type": "code",
   "execution_count": 77,
   "metadata": {},
   "outputs": [
    {
     "name": "stdout",
     "output_type": "stream",
     "text": [
      "+--------------------+\n",
      "|    ScreenResolution|\n",
      "+--------------------+\n",
      "|IPS Panel Quad HD...|\n",
      "| IPS Panel 2560x1440|\n",
      "|IPS Panel Touchsc...|\n",
      "|Touchscreen 2560x...|\n",
      "|IPS Panel Retina ...|\n",
      "|Full HD / Touchsc...|\n",
      "|Touchscreen / Ful...|\n",
      "|IPS Panel Touchsc...|\n",
      "|Touchscreen 2256x...|\n",
      "|IPS Panel Quad HD...|\n",
      "|            1366x768|\n",
      "|Touchscreen 2400x...|\n",
      "|           2560x1440|\n",
      "|           1920x1080|\n",
      "|IPS Panel 4K Ultr...|\n",
      "|4K Ultra HD / Tou...|\n",
      "|IPS Panel Touchsc...|\n",
      "|Touchscreen 1366x768|\n",
      "|IPS Panel Full HD...|\n",
      "|  IPS Panel 1366x768|\n",
      "+--------------------+\n",
      "only showing top 20 rows\n",
      "\n"
     ]
    }
   ],
   "source": [
    "df_train.select(\"ScreenResolution\").distinct().show()"
   ]
  },
  {
   "cell_type": "code",
   "execution_count": 78,
   "metadata": {},
   "outputs": [
    {
     "name": "stdout",
     "output_type": "stream",
     "text": [
      "+--------------------+\n",
      "|                 Cpu|\n",
      "+--------------------+\n",
      "|Intel Core i7 682...|\n",
      "|Intel Core i5 730...|\n",
      "|AMD A6-Series 922...|\n",
      "|Intel Core i5 730...|\n",
      "|Intel Core i5 1.8GHz|\n",
      "|Intel Core i7 865...|\n",
      "|Intel Core M 6Y30...|\n",
      "|Intel Core i7 855...|\n",
      "|AMD A12-Series 97...|\n",
      "|Intel Pentium Dua...|\n",
      "|Intel Atom x5-Z85...|\n",
      "|Intel Celeron Dua...|\n",
      "|Intel Core M M7-6...|\n",
      "|Intel Core i5 720...|\n",
      "|Intel Pentium Qua...|\n",
      "|Intel Core i5 1.6GHz|\n",
      "|Intel Core i7 7Y7...|\n",
      "|Intel Core i5 630...|\n",
      "|AMD A12-Series 97...|\n",
      "|Intel Core i5 1.3GHz|\n",
      "+--------------------+\n",
      "only showing top 20 rows\n",
      "\n"
     ]
    }
   ],
   "source": [
    "df_train.select(\"Cpu\").distinct().show()"
   ]
  },
  {
   "cell_type": "code",
   "execution_count": 79,
   "metadata": {},
   "outputs": [
    {
     "name": "stdout",
     "output_type": "stream",
     "text": [
      "+----+\n",
      "| Ram|\n",
      "+----+\n",
      "|12GB|\n",
      "|16GB|\n",
      "| 8GB|\n",
      "|24GB|\n",
      "| 2GB|\n",
      "|32GB|\n",
      "| 4GB|\n",
      "| 6GB|\n",
      "+----+\n",
      "\n"
     ]
    }
   ],
   "source": [
    "df_train.select(\"Ram\").distinct().show()"
   ]
  },
  {
   "cell_type": "code",
   "execution_count": 80,
   "metadata": {},
   "outputs": [
    {
     "name": "stdout",
     "output_type": "stream",
     "text": [
      "+--------------------+\n",
      "|              Memory|\n",
      "+--------------------+\n",
      "|512GB SSD +  1.0T...|\n",
      "|           180GB SSD|\n",
      "|256GB SSD +  2TB HDD|\n",
      "|            16GB SSD|\n",
      "|             2TB HDD|\n",
      "|128GB SSD +  1TB HDD|\n",
      "|64GB Flash Storag...|\n",
      "|            32GB HDD|\n",
      "|           500GB HDD|\n",
      "|  1TB HDD +  1TB HDD|\n",
      "|  16GB Flash Storage|\n",
      "|             1TB HDD|\n",
      "|  64GB Flash Storage|\n",
      "|  32GB Flash Storage|\n",
      "|256GB SSD +  1.0T...|\n",
      "|256GB SSD +  1TB HDD|\n",
      "| 128GB Flash Storage|\n",
      "|            32GB SSD|\n",
      "|  1TB SSD +  1TB HDD|\n",
      "|512GB SSD +  1TB HDD|\n",
      "+--------------------+\n",
      "only showing top 20 rows\n",
      "\n"
     ]
    }
   ],
   "source": [
    "df_train.select(\"Memory\").distinct().show()"
   ]
  },
  {
   "cell_type": "code",
   "execution_count": 81,
   "metadata": {},
   "outputs": [
    {
     "name": "stdout",
     "output_type": "stream",
     "text": [
      "+--------------------+\n",
      "|                 Gpu|\n",
      "+--------------------+\n",
      "|Nvidia GeForce GT...|\n",
      "|Intel HD Graphics...|\n",
      "|Nvidia GeForce GT...|\n",
      "| AMD Radeon R5 M420X|\n",
      "|Intel HD Graphics...|\n",
      "|  AMD Radeon R7 M440|\n",
      "|   AMD Radeon RX 560|\n",
      "|   AMD Radeon RX 550|\n",
      "|Nvidia GeForce MX130|\n",
      "| Nvidia Quadro M500M|\n",
      "| Nvidia GeForce 960M|\n",
      "|Nvidia GeForce GT...|\n",
      "|Intel HD Graphics...|\n",
      "| Nvidia Quadro M1200|\n",
      "|  AMD Radeon R7 M360|\n",
      "|       AMD Radeon R7|\n",
      "|Intel Iris Pro Gr...|\n",
      "|Intel HD Graphics...|\n",
      "|Nvidia GeForce GT...|\n",
      "|      AMD R17M-M1-70|\n",
      "+--------------------+\n",
      "only showing top 20 rows\n",
      "\n"
     ]
    }
   ],
   "source": [
    "df_train.select(\"Gpu\").distinct().show()"
   ]
  },
  {
   "cell_type": "code",
   "execution_count": 82,
   "metadata": {},
   "outputs": [
    {
     "name": "stdout",
     "output_type": "stream",
     "text": [
      "+------------+\n",
      "|       OpSys|\n",
      "+------------+\n",
      "|  Windows 10|\n",
      "|       Linux|\n",
      "|       macOS|\n",
      "|   Chrome OS|\n",
      "|     Android|\n",
      "|Windows 10 S|\n",
      "|   Windows 7|\n",
      "|    Mac OS X|\n",
      "|       No OS|\n",
      "+------------+\n",
      "\n"
     ]
    }
   ],
   "source": [
    "df_train.select(\"OpSys\").distinct().show()"
   ]
  },
  {
   "cell_type": "code",
   "execution_count": 83,
   "metadata": {},
   "outputs": [
    {
     "name": "stdout",
     "output_type": "stream",
     "text": [
      "+------+\n",
      "|Weight|\n",
      "+------+\n",
      "|   2kg|\n",
      "| 3.2kg|\n",
      "|2.02kg|\n",
      "|1.49kg|\n",
      "|0.99kg|\n",
      "|2.23kg|\n",
      "|1.05kg|\n",
      "|1.32kg|\n",
      "|1.17kg|\n",
      "| 3.6kg|\n",
      "|1.28kg|\n",
      "| 2.9kg|\n",
      "|1.34kg|\n",
      "| 3.8kg|\n",
      "|1.63kg|\n",
      "| 2.3kg|\n",
      "|1.35kg|\n",
      "|2.99kg|\n",
      "|1.10kg|\n",
      "|2.67kg|\n",
      "+------+\n",
      "only showing top 20 rows\n",
      "\n"
     ]
    }
   ],
   "source": [
    "df_train.select(\"Weight\").distinct().show()"
   ]
  },
  {
   "cell_type": "code",
   "execution_count": 84,
   "metadata": {},
   "outputs": [
    {
     "name": "stdout",
     "output_type": "stream",
     "text": [
      "+-----------+\n",
      "|Price_euros|\n",
      "+-----------+\n",
      "|      299.0|\n",
      "|      769.0|\n",
      "|    2296.95|\n",
      "|     850.66|\n",
      "|    1426.66|\n",
      "|     344.99|\n",
      "|     3949.4|\n",
      "|      598.9|\n",
      "|    1962.98|\n",
      "|     618.99|\n",
      "|      410.8|\n",
      "|      443.9|\n",
      "|    1686.64|\n",
      "|      599.9|\n",
      "|     252.36|\n",
      "|     735.07|\n",
      "|     469.01|\n",
      "|     817.95|\n",
      "|      210.8|\n",
      "|    2198.19|\n",
      "+-----------+\n",
      "only showing top 20 rows\n",
      "\n"
     ]
    }
   ],
   "source": [
    "df_train.select(\"Price_euros\").distinct().show()"
   ]
  },
  {
   "cell_type": "code",
   "execution_count": null,
   "metadata": {},
   "outputs": [],
   "source": [
    "#asi de primeras se pueden diferenciar de varias formas, vamos poco a poco."
   ]
  },
  {
   "cell_type": "code",
   "execution_count": null,
   "metadata": {},
   "outputs": [],
   "source": [
    "#Crearemos columnas booleanas, que digan si es intel y de que gama.\n",
    "df_train = df_train.withColumn(\"Intel\", when(col(\"Cpu\").like(\"%Intel%\"), True).otherwise(False))\n",
    "df_train = df_train.withColumn(\"Intel_baja\", when(col(\"Cpu\").like(\"%Intel Core I3%\"), True).otherwise(False))\n",
    "df_train = df_train.withColumn(\"Intel_media\", when(col(\"Cpu\").like(\"%Intel Core I5%\"), True).otherwise(False))\n",
    "df_train = df_train.withColumn(\"Intel_alta\", when(col(\"Cpu\").like(\"%Intel Core I7%\"), True).otherwise(False))\n",
    "#no olvidemos que AMD existe\n",
    "df_train = df_train.withColumn(\"AMD\", when(col(\"Cpu\").like(\"%AMD%\"), True).otherwise(False))"
   ]
  },
  {
   "cell_type": "code",
   "execution_count": 1,
   "metadata": {},
   "outputs": [],
   "source": [
    "#El tipo de ordenador influye bastante, ya que los gaming son mas caros:\n",
    "df_train = df_train.withColumn(\"Gaming\", when(col(\"TypeName\").like(\"%Gaming%\"), True).otherwise(False))\n",
    "df_train = df_train.withColumn(\"Ultrabook\", when(col(\"TypeName\").like(\"%Ultrabook%\"), True).otherwise(False))\n",
    "df_train = df_train.withColumn(\"Notebook\", when(col(\"TypeName\").like(\"%Notebook%\"), True).otherwise(False))"
   ]
  },
  {
   "cell_type": "code",
   "execution_count": null,
   "metadata": {},
   "outputs": [],
   "source": [
    "#La GPU es muy importante, pero mas que por cada tipo, de momento por su nombre, las \"graphics\" suelen ser integradas y mas baratas.\n",
    "df_train = df_train.withColumn(\"Nvidia\", when(col(\"Gpu\").like(\"%Nvidia%\"), True).otherwise(False))\n",
    "df_train = df_train.withColumn(\"Nvidia_Geforce\", when(col(\"Gpu\").like(\"%Geforce%\"), True).otherwise(False))\n",
    "df_train = df_train.withColumn(\"Nvidia_graphics\", when(col(\"Gpu\").like(\"%HD%\"), True).otherwise(False))\n",
    "df_train = df_train.withColumn(\"Intel_graphics\", when(col(\"Gpu\").like(\"%Intel%\"), True).otherwise(False))"
   ]
  },
  {
   "cell_type": "code",
   "execution_count": 2,
   "metadata": {},
   "outputs": [
    {
     "ename": "NameError",
     "evalue": "name 'df_train' is not defined",
     "output_type": "error",
     "traceback": [
      "\u001b[1;31m---------------------------------------------------------------------------\u001b[0m",
      "\u001b[1;31mNameError\u001b[0m                                 Traceback (most recent call last)",
      "\u001b[1;32mc:\\Users\\adria\\Desktop\\Predecir-porttiles-con-Spark\\Notebooks\\manipulation_df.ipynb Cell 20\u001b[0m line \u001b[0;36m1\n\u001b[1;32m----> <a href='vscode-notebook-cell:/c%3A/Users/adria/Desktop/Predecir-porttiles-con-Spark/Notebooks/manipulation_df.ipynb#X22sZmlsZQ%3D%3D?line=0'>1</a>\u001b[0m df_train \u001b[39m=\u001b[39m df_train\u001b[39m.\u001b[39mwithColumn(\u001b[39m\"\u001b[39m\u001b[39mAMD\u001b[39m\u001b[39m\"\u001b[39m, when(col(\u001b[39m\"\u001b[39m\u001b[39mCpu\u001b[39m\u001b[39m\"\u001b[39m)\u001b[39m.\u001b[39mlike(\u001b[39m\"\u001b[39m\u001b[39m%\u001b[39m\u001b[39mAMD\u001b[39m\u001b[39m%\u001b[39m\u001b[39m\"\u001b[39m), \u001b[39mTrue\u001b[39;00m)\u001b[39m.\u001b[39motherwise(\u001b[39mFalse\u001b[39;00m))\n\u001b[0;32m      <a href='vscode-notebook-cell:/c%3A/Users/adria/Desktop/Predecir-porttiles-con-Spark/Notebooks/manipulation_df.ipynb#X22sZmlsZQ%3D%3D?line=1'>2</a>\u001b[0m df_train \u001b[39m=\u001b[39m df_train\u001b[39m.\u001b[39mwithColumn(\u001b[39m\"\u001b[39m\u001b[39mNvidia\u001b[39m\u001b[39m\"\u001b[39m, when(col(\u001b[39m\"\u001b[39m\u001b[39mGpu\u001b[39m\u001b[39m\"\u001b[39m)\u001b[39m.\u001b[39mlike(\u001b[39m\"\u001b[39m\u001b[39m%\u001b[39m\u001b[39mNvidia\u001b[39m\u001b[39m%\u001b[39m\u001b[39m\"\u001b[39m), \u001b[39mTrue\u001b[39;00m)\u001b[39m.\u001b[39motherwise(\u001b[39mFalse\u001b[39;00m))\n\u001b[0;32m      <a href='vscode-notebook-cell:/c%3A/Users/adria/Desktop/Predecir-porttiles-con-Spark/Notebooks/manipulation_df.ipynb#X22sZmlsZQ%3D%3D?line=2'>3</a>\u001b[0m df_train \u001b[39m=\u001b[39m df_train\u001b[39m.\u001b[39mwithColumn(\u001b[39m\"\u001b[39m\u001b[39mNvidia_Geforce\u001b[39m\u001b[39m\"\u001b[39m, when(col(\u001b[39m\"\u001b[39m\u001b[39mGpu\u001b[39m\u001b[39m\"\u001b[39m)\u001b[39m.\u001b[39mlike(\u001b[39m\"\u001b[39m\u001b[39m%G\u001b[39;00m\u001b[39meforce\u001b[39m\u001b[39m%\u001b[39m\u001b[39m\"\u001b[39m), \u001b[39mTrue\u001b[39;00m)\u001b[39m.\u001b[39motherwise(\u001b[39mFalse\u001b[39;00m))\n",
      "\u001b[1;31mNameError\u001b[0m: name 'df_train' is not defined"
     ]
    }
   ],
   "source": [
    "#si la pantalla es HD puede influir.\n",
    "df_train = df_train.withColumn(\"Screen_HD\", when(col(\"Screenresolution\").like(\"%HD%\"), True).otherwise(False))\n",
    "#Aqui para saber si es HDD o SSD, siendo SSD mas caro y aun mas si tiene ambos\n",
    "df_train = df_train.withColumn(\"SSD\", when(col(\"Memory\").like(\"%SSD%\"), True).otherwise(False))\n",
    "df_train = df_train.withColumn(\"HDD\", when(col(\"Memory\").like(\"%HDD%\"), True).otherwise(False))\n",
    "df_train = df_train.withColumn(\"HDD+SSD\", when(col(\"Memory\").like(\"%HDD%\") & col(\"Memory\").like(\"%SSD%\"), True).otherwise(False))\n",
    "#Quitamos el texto a la ram para quedarnos con el valor numerico.\n",
    "df_train = df_train.withColumn(\"Ram\", regexp_replace(col(\"Ram\"), \"[^0-9]\", \"\").cast(\"int\"))"
   ]
  },
  {
   "cell_type": "code",
   "execution_count": 86,
   "metadata": {},
   "outputs": [],
   "source": [
    "#Con esta operacion de aqui, pasaremos la resolción de la pantalla a un valor mas facil de entender para nuestro modelo.\n",
    "df_temporal = df_train\n",
    "df_temporal = df_temporal.withColumn(\"X_res\", regexp_extract(col(\"Screenresolution\"), r'(\\d+)x\\d+', 1))\n",
    "df_temporal = df_temporal.withColumn(\"Y_res\", regexp_extract(col(\"Screenresolution\"), r'\\d+x(\\d+)', 1))\n",
    "\n",
    "df_train = df_temporal.withColumn(\"ppi\", sqrt(pow(col(\"X_res\"), 2) + pow(col(\"Y_res\"), 2)) / col(\"Inches\"))"
   ]
  },
  {
   "cell_type": "code",
   "execution_count": 87,
   "metadata": {},
   "outputs": [
    {
     "name": "stdout",
     "output_type": "stream",
     "text": [
      "+----+---------+-------+--------------------+------------------+------+--------------------+--------------------+---+--------------------+--------------------+----------+------+-----------+-----+----------+-----------+----------+------+---------+--------+-----+------+--------------+---------------+--------------+---------+-----+-----+-------+-----+-----+------------------+\n",
      "|  id|laptop_ID|Company|             Product|          TypeName|Inches|    ScreenResolution|                 Cpu|Ram|              Memory|                 Gpu|     OpSys|Weight|Price_euros|Intel|Intel_baja|Intel_media|Intel_alta|Gaming|Ultrabook|Notebook|  AMD|Nvidia|Nvidia_Geforce|Nvidia_graphics|Intel_graphics|Screen_HD|  SSD|  HDD|HDD+SSD|X_res|Y_res|               ppi|\n",
      "+----+---------+-------+--------------------+------------------+------+--------------------+--------------------+---+--------------------+--------------------+----------+------+-----------+-----+----------+-----------+----------+------+---------+--------+-----+------+--------------+---------------+--------------+---------+-----+-----+-------+-----+-----+------------------+\n",
      "| 268|     1002|   Dell|       Inspiron 5567|          Notebook|  15.6|            1366x768|Intel Core i7 750...|  8|             1TB HDD|  AMD Radeon R7 M445|Windows 10|2.36kg|      749.0| true|     false|      false|     false| false|    false|    true|false| false|         false|          false|         false|    false|false| true|  false| 1366|  768|100.45466986113651|\n",
      "| 347|      867|   Asus|X541NA (N4200/4GB...|          Notebook|  15.6|            1366x768|Intel Pentium Qua...|  4|             1TB HDD|Intel HD Graphics...|Windows 10|   2kg|      449.0| true|     false|      false|     false| false|    false|    true|false| false|         false|           true|          true|    false|false| true|  false| 1366|  768|100.45466986113651|\n",
      "| 353|      966|Toshiba|   Portege Z30-C-1CW|          Notebook|  13.3|   Full HD 1920x1080|Intel Core i5 620...|  8|           256GB SSD|Intel HD Graphics...| Windows 7| 1.2kg|     1460.0| true|     false|      false|     false| false|    false|    true|false| false|         false|           true|          true|     true| true|false|  false| 1920| 1080| 165.6321180513006|\n",
      "| 578|      767|   Dell|        Alienware 17|            Gaming|  15.6|IPS Panel 4K Ultr...|Intel Core i7 770...| 16|256GB SSD +  1TB HDD|Nvidia GeForce GT...|Windows 10|4.42kg|    2868.99| true|     false|      false|     false|  true|    false|   false|false|  true|         false|          false|         false|     true| true| true|   true| 3840| 2160|282.42399616439724|\n",
      "|  42|     1241|   Dell|      Latitude E7270|         Ultrabook|  12.5|Full HD / Touchsc...|Intel Core i5 630...|  8|           256GB SSD|Intel HD Graphics...| Windows 7|1.26kg|    1713.37| true|     false|      false|     false| false|     true|   false|false| false|         false|           true|          true|     true| true|false|  false| 1920| 1080|176.23257360658386|\n",
      "| 867|      376|   Asus|        ZenBook Flip|2 in 1 Convertible|  15.6|Full HD / Touchsc...|Intel Core i7 750...| 12|512GB SSD +  2TB HDD|Nvidia GeForce GT...|Windows 10|2.26kg|     1099.0| true|     false|      false|     false| false|    false|   false|false|  true|         false|          false|         false|     true| true| true|   true| 1920| 1080|141.21199808219862|\n",
      "|1136|       60|   Asus|X541UA-DM1897 (i3...|          Notebook|  15.6|   Full HD 1920x1080|Intel Core i3 600...|  4|           256GB SSD|Intel HD Graphics...|     Linux|   2kg|      415.0| true|     false|      false|     false| false|    false|    true|false| false|         false|           true|          true|     true| true|false|  false| 1920| 1080|141.21199808219862|\n",
      "| 609|     1157|    MSI|          GP62M 7RDX|            Gaming|  15.6|   Full HD 1920x1080|Intel Core i7 770...|  8|128GB SSD +  1TB HDD|Nvidia GeForce GT...|Windows 10| 2.4kg|     1142.8| true|     false|      false|     false|  true|    false|   false|false|  true|         false|          false|         false|     true| true| true|   true| 1920| 1080|141.21199808219862|\n",
      "| 474|      110|   Asus|UX430UQ-GV209R (i...|         Ultrabook|  14.0|IPS Panel Full HD...|Intel Core i7 750...|  8|           256GB SSD|Nvidia GeForce 940MX|Windows 10| 1.3kg|     1193.0| true|     false|      false|     false| false|     true|   false|false|  true|         false|          false|         false|     true| true|false|  false| 1920| 1080| 157.3505121487356|\n",
      "| 838|     1263|   Asus|  Rog GL553VE-FY052T|            Gaming|  15.6|IPS Panel Full HD...|Intel Core i7 770...| 16|256GB SSD +  1TB HDD|Nvidia GeForce GT...|Windows 10| 2.5kg|     1600.0| true|     false|      false|     false|  true|    false|   false|false|  true|         false|          false|         false|     true| true| true|   true| 1920| 1080|141.21199808219862|\n",
      "| 851|     1243|   Asus|X540SA-RBPDN09 (N...|          Notebook|  15.6|            1366x768|Intel Pentium Qua...|  4|             1TB HDD|Intel HD Graphics...|Windows 10|2.65kg|      309.0| true|     false|      false|     false| false|    false|    true|false| false|         false|           true|          true|    false|false| true|  false| 1366|  768|100.45466986113651|\n",
      "| 904|       79|   Dell|       Inspiron 5570|          Notebook|  15.6|   Full HD 1920x1080|Intel Core i7 855...|  8|128GB SSD +  1TB HDD|Intel UHD Graphic...|Windows 10|2.02kg|      855.0| true|     false|      false|     false| false|    false|    true|false| false|         false|           true|          true|     true| true| true|   true| 1920| 1080|141.21199808219862|\n",
      "| 355|      957|Toshiba|     Tecra A50-C-1ZV|          Notebook|  15.6|            1366x768|Intel Core i5 620...|  8|           256GB SSD|Intel HD Graphics...|Windows 10| 2.2kg|     1119.0| true|     false|      false|     false| false|    false|    true|false| false|         false|           true|          true|    false| true|false|  false| 1366|  768|100.45466986113651|\n",
      "|  44|      579|     HP|15-cd005nv (A9-94...|          Notebook|  15.6|IPS Panel Full HD...|AMD A9-Series A9-...|  6|           256GB SSD|      AMD Radeon 530|Windows 10|1.95kg|      649.0|false|     false|      false|     false| false|    false|    true| true| false|         false|          false|         false|     true| true|false|  false| 1920| 1080|141.21199808219862|\n",
      "|  36|      834|Toshiba|       Satellite Pro|          Notebook|  14.0|            1366x768|Intel Pentium Dua...|  4|           128GB SSD|Intel HD Graphics...|Windows 10|1.75kg|      499.0| true|     false|      false|     false| false|    false|    true|false| false|         false|           true|          true|    false| true|false|  false| 1366|  768|111.93520355955211|\n",
      "| 971|       82|   Dell|       Latitude 5590|         Ultrabook|  15.6|IPS Panel Full HD...|Intel Core i5 825...|  8|           256GB SSD|Intel UHD Graphic...|Windows 10|1.88kg|    1096.16| true|     false|      false|     false| false|     true|   false|false| false|         false|           true|          true|     true| true|false|  false| 1920| 1080|141.21199808219862|\n",
      "| 938|      159| Lenovo|      Yoga 520-14IKB|2 in 1 Convertible|  14.0|IPS Panel Full HD...|Intel Core i3 710...|  4|           256GB SSD|Intel HD Graphics...|Windows 10|1.74kg|      629.0| true|     false|      false|     false| false|    false|   false|false| false|         false|           true|          true|     true| true|false|  false| 1920| 1080| 157.3505121487356|\n",
      "| 718|      332|   Acer|       Aspire E5-575|          Notebook|  15.6|            1366x768|Intel Core i5 720...|  6|             1TB HDD|Intel HD Graphics...|Windows 10|2.23kg|      549.0| true|     false|      false|     false| false|    false|    true|false| false|         false|           true|          true|    false|false| true|  false| 1366|  768|100.45466986113651|\n",
      "| 518|      617| Lenovo|        Thinkpad P51|          Notebook|  15.6|IPS Panel 4K Ultr...|Intel Xeon E3-153...| 32|             1TB SSD|Nvidia Quadro M2200M|Windows 10| 2.5kg|     4899.0| true|     false|      false|     false| false|    false|    true|false|  true|         false|          false|         false|     true| true|false|  false| 3840| 2160|282.42399616439724|\n",
      "|1126|      172|   Acer|     Aspire A517-51G|          Notebook|  17.3|IPS Panel Full HD...|Intel Core i5 825...|  8|           256GB SSD|Nvidia GeForce MX150|Windows 10|   3kg|      854.0| true|     false|      false|     false| false|    false|    true|false|  true|         false|          false|         false|     true| true|false|  false| 1920| 1080|127.33567457123111|\n",
      "+----+---------+-------+--------------------+------------------+------+--------------------+--------------------+---+--------------------+--------------------+----------+------+-----------+-----+----------+-----------+----------+------+---------+--------+-----+------+--------------+---------------+--------------+---------+-----+-----+-------+-----+-----+------------------+\n",
      "only showing top 20 rows\n",
      "\n"
     ]
    }
   ],
   "source": [
    "df_train.show()"
   ]
  },
  {
   "cell_type": "code",
   "execution_count": 88,
   "metadata": {},
   "outputs": [],
   "source": [
    "#Quitamos las columnas que no vamos a usar.\n",
    "columnas_innecesarias = [\"X_res\", \"Y_res\", \"TypeName\", \"Company\",\"id\", \"laptop_ID\", \"ScreenResolution\",\"Inches\",\"Product\",\"Memory\",\"Opsys\",\"GPU\",\"weight\",\"CPU\"]\n",
    "df_train = df_train.drop(*columnas_innecesarias)"
   ]
  },
  {
   "cell_type": "code",
   "execution_count": 89,
   "metadata": {},
   "outputs": [
    {
     "name": "stdout",
     "output_type": "stream",
     "text": [
      "+---+-----------+-----+----------+-----------+----------+------+---------+--------+-----+------+--------------+---------------+--------------+---------+-----+-----+-------+------------------+\n",
      "|Ram|Price_euros|Intel|Intel_baja|Intel_media|Intel_alta|Gaming|Ultrabook|Notebook|  AMD|Nvidia|Nvidia_Geforce|Nvidia_graphics|Intel_graphics|Screen_HD|  SSD|  HDD|HDD+SSD|               ppi|\n",
      "+---+-----------+-----+----------+-----------+----------+------+---------+--------+-----+------+--------------+---------------+--------------+---------+-----+-----+-------+------------------+\n",
      "|  8|      749.0| true|     false|      false|     false| false|    false|    true|false| false|         false|          false|         false|    false|false| true|  false|100.45466986113651|\n",
      "|  4|      449.0| true|     false|      false|     false| false|    false|    true|false| false|         false|           true|          true|    false|false| true|  false|100.45466986113651|\n",
      "|  8|     1460.0| true|     false|      false|     false| false|    false|    true|false| false|         false|           true|          true|     true| true|false|  false| 165.6321180513006|\n",
      "| 16|    2868.99| true|     false|      false|     false|  true|    false|   false|false|  true|         false|          false|         false|     true| true| true|   true|282.42399616439724|\n",
      "|  8|    1713.37| true|     false|      false|     false| false|     true|   false|false| false|         false|           true|          true|     true| true|false|  false|176.23257360658386|\n",
      "| 12|     1099.0| true|     false|      false|     false| false|    false|   false|false|  true|         false|          false|         false|     true| true| true|   true|141.21199808219862|\n",
      "|  4|      415.0| true|     false|      false|     false| false|    false|    true|false| false|         false|           true|          true|     true| true|false|  false|141.21199808219862|\n",
      "|  8|     1142.8| true|     false|      false|     false|  true|    false|   false|false|  true|         false|          false|         false|     true| true| true|   true|141.21199808219862|\n",
      "|  8|     1193.0| true|     false|      false|     false| false|     true|   false|false|  true|         false|          false|         false|     true| true|false|  false| 157.3505121487356|\n",
      "| 16|     1600.0| true|     false|      false|     false|  true|    false|   false|false|  true|         false|          false|         false|     true| true| true|   true|141.21199808219862|\n",
      "|  4|      309.0| true|     false|      false|     false| false|    false|    true|false| false|         false|           true|          true|    false|false| true|  false|100.45466986113651|\n",
      "|  8|      855.0| true|     false|      false|     false| false|    false|    true|false| false|         false|           true|          true|     true| true| true|   true|141.21199808219862|\n",
      "|  8|     1119.0| true|     false|      false|     false| false|    false|    true|false| false|         false|           true|          true|    false| true|false|  false|100.45466986113651|\n",
      "|  6|      649.0|false|     false|      false|     false| false|    false|    true| true| false|         false|          false|         false|     true| true|false|  false|141.21199808219862|\n",
      "|  4|      499.0| true|     false|      false|     false| false|    false|    true|false| false|         false|           true|          true|    false| true|false|  false|111.93520355955211|\n",
      "|  8|    1096.16| true|     false|      false|     false| false|     true|   false|false| false|         false|           true|          true|     true| true|false|  false|141.21199808219862|\n",
      "|  4|      629.0| true|     false|      false|     false| false|    false|   false|false| false|         false|           true|          true|     true| true|false|  false| 157.3505121487356|\n",
      "|  6|      549.0| true|     false|      false|     false| false|    false|    true|false| false|         false|           true|          true|    false|false| true|  false|100.45466986113651|\n",
      "| 32|     4899.0| true|     false|      false|     false| false|    false|    true|false|  true|         false|          false|         false|     true| true|false|  false|282.42399616439724|\n",
      "|  8|      854.0| true|     false|      false|     false| false|    false|    true|false|  true|         false|          false|         false|     true| true|false|  false|127.33567457123111|\n",
      "+---+-----------+-----+----------+-----------+----------+------+---------+--------+-----+------+--------------+---------------+--------------+---------+-----+-----+-------+------------------+\n",
      "only showing top 20 rows\n",
      "\n"
     ]
    }
   ],
   "source": [
    "df_train.show()"
   ]
  },
  {
   "cell_type": "code",
   "execution_count": 90,
   "metadata": {},
   "outputs": [
    {
     "data": {
      "text/plain": [
       "[('Ram', 'int'),\n",
       " ('Price_euros', 'double'),\n",
       " ('Intel', 'boolean'),\n",
       " ('Intel_baja', 'boolean'),\n",
       " ('Intel_media', 'boolean'),\n",
       " ('Intel_alta', 'boolean'),\n",
       " ('Gaming', 'boolean'),\n",
       " ('Ultrabook', 'boolean'),\n",
       " ('Notebook', 'boolean'),\n",
       " ('AMD', 'boolean'),\n",
       " ('Nvidia', 'boolean'),\n",
       " ('Nvidia_Geforce', 'boolean'),\n",
       " ('Nvidia_graphics', 'boolean'),\n",
       " ('Intel_graphics', 'boolean'),\n",
       " ('Screen_HD', 'boolean'),\n",
       " ('SSD', 'boolean'),\n",
       " ('HDD', 'boolean'),\n",
       " ('HDD+SSD', 'boolean'),\n",
       " ('ppi', 'double')]"
      ]
     },
     "execution_count": 90,
     "metadata": {},
     "output_type": "execute_result"
    }
   ],
   "source": [
    "df_train.dtypes"
   ]
  },
  {
   "cell_type": "code",
   "execution_count": 91,
   "metadata": {},
   "outputs": [],
   "source": [
    "#El proceso de guardado ha dado problemas, esto generara 2 archivos, una especie de control de calidad y nuestro CSV.\n",
    "df_train.write.option(\"mapreduce.fileoutputcommitter.marksuccessfuljobs\", \"false\").csv(\"../data/processed/train/\", header=True, mode=\"overwrite\")\n",
    "\n",
    "#Con esto miraremos la lista de archivos, el CSV estara el ultimo, le cambiamos el nombre a train.csv\n",
    "archivos = os.listdir(\"../data/processed/train/\")\n",
    "\n",
    "ruta_antigua = os.path.join(\"../data/processed/train/\", archivos[-1])\n",
    "ruta_nueva = os.path.join(\"../data/processed/train/\", \"train.csv\")\n",
    "\n",
    "\n",
    "os.rename(ruta_antigua, ruta_nueva)\n",
    "\n",
    "#Nota: para ejecutar bien esto, train y test se guardaran cada uno en una carpeta."
   ]
  },
  {
   "cell_type": "code",
   "execution_count": 92,
   "metadata": {},
   "outputs": [],
   "source": [
    "#ahora para test:\n",
    "#Exactamente lo mismo, pero mas compacto para test.\n",
    "\n",
    "df_test = spark.read.csv(\"../data/raw-kaggle/test.csv\", header=True, inferSchema=True)\n",
    "\n",
    "df_test = df_test.withColumn(\"Intel\", when(col(\"Cpu\").like(\"%Intel%\"), True).otherwise(False))\n",
    "df_test = df_test.withColumn(\"Intel_baja\", when(col(\"Cpu\").like(\"%Intel Core I3%\"), True).otherwise(False))\n",
    "df_test = df_test.withColumn(\"Intel_media\", when(col(\"Cpu\").like(\"%Intel Core I5%\"), True).otherwise(False))\n",
    "df_test = df_test.withColumn(\"Intel_alta\", when(col(\"Cpu\").like(\"%Intel Core I7%\"), True).otherwise(False))\n",
    "df_test = df_test.withColumn(\"Gaming\", when(col(\"TypeName\").like(\"%Gaming%\"), True).otherwise(False))\n",
    "df_test = df_test.withColumn(\"Ultrabook\", when(col(\"TypeName\").like(\"%Ultrabook%\"), True).otherwise(False))\n",
    "df_test = df_test.withColumn(\"Notebook\", when(col(\"TypeName\").like(\"%Notebook%\"), True).otherwise(False))\n",
    "df_test = df_test.withColumn(\"AMD\", when(col(\"Cpu\").like(\"%AMD%\"), True).otherwise(False))\n",
    "df_test = df_test.withColumn(\"Nvidia\", when(col(\"Gpu\").like(\"%Nvidia%\"), True).otherwise(False))\n",
    "df_test = df_test.withColumn(\"Nvidia_Geforce\", when(col(\"Gpu\").like(\"%Geforce%\"), True).otherwise(False))\n",
    "df_test = df_test.withColumn(\"Nvidia_graphics\", when(col(\"Gpu\").like(\"%HD%\"), True).otherwise(False))\n",
    "df_test = df_test.withColumn(\"Intel_graphics\", when(col(\"Gpu\").like(\"%Intel%\"), True).otherwise(False))\n",
    "df_test = df_test.withColumn(\"Screen_HD\", when(col(\"Screenresolution\").like(\"%HD%\"), True).otherwise(False))\n",
    "df_test = df_test.withColumn(\"SSD\", when(col(\"Memory\").like(\"%SSD%\"), True).otherwise(False))\n",
    "df_test = df_test.withColumn(\"HDD\", when(col(\"Memory\").like(\"%HDD%\"), True).otherwise(False))\n",
    "df_test = df_test.withColumn(\"HDD+SSD\", when(col(\"Memory\").like(\"%HDD%\") & col(\"Memory\").like(\"%SSD%\"), True).otherwise(False))\n",
    "df_test = df_test.withColumn(\"Ram\", regexp_replace(col(\"Ram\"), \"[^0-9]\", \"\").cast(\"int\"))\n",
    "\n",
    "df_temporal = df_test\n",
    "df_temporal = df_temporal.withColumn(\"X_res\", regexp_extract(col(\"Screenresolution\"), r'(\\d+)x\\d+', 1))\n",
    "df_temporal = df_temporal.withColumn(\"Y_res\", regexp_extract(col(\"Screenresolution\"), r'\\d+x(\\d+)', 1))\n",
    "\n",
    "df_test = df_temporal.withColumn(\"ppi\", sqrt(pow(col(\"X_res\"), 2) + pow(col(\"Y_res\"), 2)) / col(\"Inches\"))\n",
    "columnas_innecesarias = [\"X_res\", \"Y_res\", \"TypeName\", \"Company\",\"id\", \"laptop_ID\", \"ScreenResolution\",\"Inches\",\"Product\",\"Memory\",\"Opsys\",\"GPU\",\"weight\",\"CPU\"]\n",
    "df_test = df_test.drop(*columnas_innecesarias)"
   ]
  },
  {
   "cell_type": "code",
   "execution_count": 93,
   "metadata": {},
   "outputs": [
    {
     "name": "stdout",
     "output_type": "stream",
     "text": [
      "+---+-----+----------+-----------+----------+------+---------+--------+-----+------+--------------+---------------+--------------+---------+-----+-----+-------+------------------+\n",
      "|Ram|Intel|Intel_baja|Intel_media|Intel_alta|Gaming|Ultrabook|Notebook|  AMD|Nvidia|Nvidia_Geforce|Nvidia_graphics|Intel_graphics|Screen_HD|  SSD|  HDD|HDD+SSD|               ppi|\n",
      "+---+-----+----------+-----------+----------+------+---------+--------+-----+------+--------------+---------------+--------------+---------+-----+-----+-------+------------------+\n",
      "| 16| true|     false|      false|     false| false|     true|   false|false| false|         false|           true|          true|     true| true|false|  false| 331.2642361026012|\n",
      "|  8|false|     false|      false|     false| false|    false|    true| true| false|         false|          false|         false|    false| true|false|  false|100.45466986113651|\n",
      "|  4| true|     false|      false|     false| false|    false|    true|false| false|         false|           true|          true|    false|false| true|  false|100.45466986113651|\n",
      "|  8| true|     false|      false|     false| false|    false|    true|false| false|         false|           true|          true|     true| true|false|  false| 157.3505121487356|\n",
      "|  8| true|     false|      false|     false| false|    false|    true|false| false|         false|           true|          true|     true| true|false|  false| 165.6321180513006|\n",
      "| 16| true|     false|      false|     false| false|    false|   false|false| false|         false|           true|          true|     true| true|false|  false|141.21199808219862|\n",
      "| 16| true|     false|      false|     false|  true|    false|   false|false|  true|         false|          false|         false|     true| true|false|  false| 157.3505121487356|\n",
      "|  4| true|     false|      false|     false| false|    false|    true|false|  true|         false|          false|         false|     true|false| true|  false|141.21199808219862|\n",
      "| 64| true|     false|      false|     false|  true|    false|   false|false|  true|         false|          false|         false|     true| true|false|  false|127.33567457123111|\n",
      "|  8| true|     false|      false|     false| false|    false|   false|false| false|         false|           true|          true|    false| true|false|  false| 209.8006828649808|\n",
      "|  8| true|     false|      false|     false| false|     true|   false|false| false|         false|           true|          true|     true| true|false|  false| 165.6321180513006|\n",
      "|  4| true|     false|      false|     false| false|    false|    true|false| false|         false|          false|         false|    false|false| true|  false|100.45466986113651|\n",
      "|  4| true|     false|      false|     false| false|    false|    true|false| false|         false|           true|          true|     true|false|false|  false| 165.6321180513006|\n",
      "|  4| true|     false|      false|     false| false|    false|    true|false| false|         false|           true|          true|     true| true|false|  false| 157.3505121487356|\n",
      "|  4| true|     false|      false|     false| false|    false|    true|false| false|         false|           true|          true|     true|false| true|  false|141.21199808219862|\n",
      "|  8| true|     false|      false|     false| false|    false|   false|false| false|         false|           true|          true|     true| true|false|  false|194.94753717542463|\n",
      "|  4| true|     false|      false|     false| false|    false|   false|false| false|         false|           true|          true|     true|false|false|  false|189.90579052433606|\n",
      "|  8| true|     false|      false|     false| false|    false|   false|false| false|         false|           true|          true|    false| true|false|  false|220.84282406840083|\n",
      "|  8| true|     false|      false|     false| false|    false|   false|false| false|         false|           true|          true|     true| true|false|  false| 165.6321180513006|\n",
      "|  8| true|     false|      false|     false| false|     true|   false|false| false|         false|           true|          true|     true| true|false|  false| 165.6321180513006|\n",
      "+---+-----+----------+-----------+----------+------+---------+--------+-----+------+--------------+---------------+--------------+---------+-----+-----+-------+------------------+\n",
      "only showing top 20 rows\n",
      "\n"
     ]
    }
   ],
   "source": [
    "df_test.show()"
   ]
  },
  {
   "cell_type": "code",
   "execution_count": 94,
   "metadata": {},
   "outputs": [
    {
     "data": {
      "text/plain": [
       "[('Ram', 'int'),\n",
       " ('Intel', 'boolean'),\n",
       " ('Intel_baja', 'boolean'),\n",
       " ('Intel_media', 'boolean'),\n",
       " ('Intel_alta', 'boolean'),\n",
       " ('Gaming', 'boolean'),\n",
       " ('Ultrabook', 'boolean'),\n",
       " ('Notebook', 'boolean'),\n",
       " ('AMD', 'boolean'),\n",
       " ('Nvidia', 'boolean'),\n",
       " ('Nvidia_Geforce', 'boolean'),\n",
       " ('Nvidia_graphics', 'boolean'),\n",
       " ('Intel_graphics', 'boolean'),\n",
       " ('Screen_HD', 'boolean'),\n",
       " ('SSD', 'boolean'),\n",
       " ('HDD', 'boolean'),\n",
       " ('HDD+SSD', 'boolean'),\n",
       " ('ppi', 'double')]"
      ]
     },
     "execution_count": 94,
     "metadata": {},
     "output_type": "execute_result"
    }
   ],
   "source": [
    "df_test.dtypes"
   ]
  },
  {
   "cell_type": "code",
   "execution_count": 95,
   "metadata": {},
   "outputs": [],
   "source": [
    "#Lo mismo de antes, para poder guardarlo bien.\n",
    "df_test.write.option(\"mapreduce.fileoutputcommitter.marksuccessfuljobs\", \"false\").csv(\"../data/processed/test/\", header=True, mode=\"overwrite\")\n",
    "\n",
    "archivos = os.listdir(\"../data/processed/test\")\n",
    "\n",
    "\n",
    "ultimo_archivo = archivos[-1]\n",
    "\n",
    "\n",
    "ruta_antiguo = os.path.join(\"../data/processed/test/\", ultimo_archivo)\n",
    "ruta_nuevo = os.path.join(\"../data/processed/test/\", \"test.csv\")\n",
    "\n",
    "\n",
    "os.rename(ruta_antiguo, ruta_nuevo)"
   ]
  }
 ],
 "metadata": {
  "kernelspec": {
   "display_name": "Python 3",
   "language": "python",
   "name": "python3"
  },
  "language_info": {
   "codemirror_mode": {
    "name": "ipython",
    "version": 3
   },
   "file_extension": ".py",
   "mimetype": "text/x-python",
   "name": "python",
   "nbconvert_exporter": "python",
   "pygments_lexer": "ipython3",
   "version": "3.11.3"
  }
 },
 "nbformat": 4,
 "nbformat_minor": 2
}

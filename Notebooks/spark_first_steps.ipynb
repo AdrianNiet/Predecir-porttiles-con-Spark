{
 "cells": [
  {
   "cell_type": "code",
   "execution_count": 204,
   "metadata": {},
   "outputs": [],
   "source": [
    "from pyspark.sql import SparkSession\n",
    "from pyspark.sql.functions import when, count, isnull"
   ]
  },
  {
   "cell_type": "code",
   "execution_count": 205,
   "metadata": {},
   "outputs": [],
   "source": [
    "#Creamos sesion\n",
    "spark = SparkSession.builder.appName(\"practica\").getOrCreate()"
   ]
  },
  {
   "cell_type": "code",
   "execution_count": 206,
   "metadata": {},
   "outputs": [
    {
     "data": {
      "text/html": [
       "\n",
       "            <div>\n",
       "                <p><b>SparkSession - in-memory</b></p>\n",
       "                \n",
       "        <div>\n",
       "            <p><b>SparkContext</b></p>\n",
       "\n",
       "            <p><a href=\"http://DESKTOP-USON4E1:4040\">Spark UI</a></p>\n",
       "\n",
       "            <dl>\n",
       "              <dt>Version</dt>\n",
       "                <dd><code>v3.5.0</code></dd>\n",
       "              <dt>Master</dt>\n",
       "                <dd><code>local[*]</code></dd>\n",
       "              <dt>AppName</dt>\n",
       "                <dd><code>practica</code></dd>\n",
       "            </dl>\n",
       "        </div>\n",
       "        \n",
       "            </div>\n",
       "        "
      ],
      "text/plain": [
       "<pyspark.sql.session.SparkSession at 0x18affc19dd0>"
      ]
     },
     "execution_count": 206,
     "metadata": {},
     "output_type": "execute_result"
    }
   ],
   "source": [
    "#se ha creado bien\n",
    "spark"
   ]
  },
  {
   "cell_type": "code",
   "execution_count": 207,
   "metadata": {},
   "outputs": [],
   "source": [
    "#Abrimos DF\n",
    "#NOTA IMPORTANTE, ESTE ARCHIVO PESABA MAS DE 100MB, es posible que no se pueda subir el original usado.\n",
    "df_train = spark.read.csv(\"../data/raw/train.csv\", header=True, inferSchema=True)"
   ]
  },
  {
   "cell_type": "code",
   "execution_count": 208,
   "metadata": {},
   "outputs": [
    {
     "name": "stdout",
     "output_type": "stream",
     "text": [
      "+---+----------+---------+-------------------+-----+-----------+\n",
      "| id|      date|store_nbr|             family|sales|onpromotion|\n",
      "+---+----------+---------+-------------------+-----+-----------+\n",
      "|  0|2013-01-01|        1|         AUTOMOTIVE|  0.0|          0|\n",
      "|  1|2013-01-01|        1|          BABY CARE|  0.0|          0|\n",
      "|  2|2013-01-01|        1|             BEAUTY|  0.0|          0|\n",
      "|  3|2013-01-01|        1|          BEVERAGES|  0.0|          0|\n",
      "|  4|2013-01-01|        1|              BOOKS|  0.0|          0|\n",
      "|  5|2013-01-01|        1|       BREAD/BAKERY|  0.0|          0|\n",
      "|  6|2013-01-01|        1|        CELEBRATION|  0.0|          0|\n",
      "|  7|2013-01-01|        1|           CLEANING|  0.0|          0|\n",
      "|  8|2013-01-01|        1|              DAIRY|  0.0|          0|\n",
      "|  9|2013-01-01|        1|               DELI|  0.0|          0|\n",
      "| 10|2013-01-01|        1|               EGGS|  0.0|          0|\n",
      "| 11|2013-01-01|        1|       FROZEN FOODS|  0.0|          0|\n",
      "| 12|2013-01-01|        1|          GROCERY I|  0.0|          0|\n",
      "| 13|2013-01-01|        1|         GROCERY II|  0.0|          0|\n",
      "| 14|2013-01-01|        1|           HARDWARE|  0.0|          0|\n",
      "| 15|2013-01-01|        1| HOME AND KITCHEN I|  0.0|          0|\n",
      "| 16|2013-01-01|        1|HOME AND KITCHEN II|  0.0|          0|\n",
      "| 17|2013-01-01|        1|    HOME APPLIANCES|  0.0|          0|\n",
      "| 18|2013-01-01|        1|          HOME CARE|  0.0|          0|\n",
      "| 19|2013-01-01|        1|         LADIESWEAR|  0.0|          0|\n",
      "+---+----------+---------+-------------------+-----+-----------+\n",
      "only showing top 20 rows\n",
      "\n"
     ]
    }
   ],
   "source": [
    "#Se ve correcta.\n",
    "df_train.show()"
   ]
  },
  {
   "cell_type": "code",
   "execution_count": 209,
   "metadata": {},
   "outputs": [
    {
     "name": "stdout",
     "output_type": "stream",
     "text": [
      "+-------+----------+---------+-------------------+-----------+\n",
      "|     id|      date|store_nbr|             family|onpromotion|\n",
      "+-------+----------+---------+-------------------+-----------+\n",
      "|3000888|2017-08-16|        1|         AUTOMOTIVE|          0|\n",
      "|3000889|2017-08-16|        1|          BABY CARE|          0|\n",
      "|3000890|2017-08-16|        1|             BEAUTY|          2|\n",
      "|3000891|2017-08-16|        1|          BEVERAGES|         20|\n",
      "|3000892|2017-08-16|        1|              BOOKS|          0|\n",
      "|3000893|2017-08-16|        1|       BREAD/BAKERY|         12|\n",
      "|3000894|2017-08-16|        1|        CELEBRATION|          0|\n",
      "|3000895|2017-08-16|        1|           CLEANING|         25|\n",
      "|3000896|2017-08-16|        1|              DAIRY|         45|\n",
      "|3000897|2017-08-16|        1|               DELI|         18|\n",
      "|3000898|2017-08-16|        1|               EGGS|          1|\n",
      "|3000899|2017-08-16|        1|       FROZEN FOODS|          1|\n",
      "|3000900|2017-08-16|        1|          GROCERY I|         64|\n",
      "|3000901|2017-08-16|        1|         GROCERY II|          0|\n",
      "|3000902|2017-08-16|        1|           HARDWARE|          0|\n",
      "|3000903|2017-08-16|        1| HOME AND KITCHEN I|          2|\n",
      "|3000904|2017-08-16|        1|HOME AND KITCHEN II|          6|\n",
      "|3000905|2017-08-16|        1|    HOME APPLIANCES|          0|\n",
      "|3000906|2017-08-16|        1|          HOME CARE|         10|\n",
      "|3000907|2017-08-16|        1|         LADIESWEAR|          0|\n",
      "+-------+----------+---------+-------------------+-----------+\n",
      "only showing top 20 rows\n",
      "\n"
     ]
    }
   ],
   "source": [
    "spark.read.option(\"header\", \"true\").csv(\"../data/raw/test.csv\").show()"
   ]
  },
  {
   "cell_type": "code",
   "execution_count": 210,
   "metadata": {},
   "outputs": [
    {
     "name": "stdout",
     "output_type": "stream",
     "text": [
      "root\n",
      " |-- id: integer (nullable = true)\n",
      " |-- date: date (nullable = true)\n",
      " |-- store_nbr: integer (nullable = true)\n",
      " |-- family: string (nullable = true)\n",
      " |-- sales: double (nullable = true)\n",
      " |-- onpromotion: integer (nullable = true)\n",
      "\n"
     ]
    }
   ],
   "source": [
    "#Desde aqui son comandos basicos.\n",
    "df_train.printSchema()"
   ]
  },
  {
   "cell_type": "code",
   "execution_count": 211,
   "metadata": {},
   "outputs": [
    {
     "data": {
      "text/plain": [
       "['id', 'date', 'store_nbr', 'family', 'sales', 'onpromotion']"
      ]
     },
     "execution_count": 211,
     "metadata": {},
     "output_type": "execute_result"
    }
   ],
   "source": [
    "df_train.columns"
   ]
  },
  {
   "cell_type": "code",
   "execution_count": 212,
   "metadata": {},
   "outputs": [
    {
     "data": {
      "text/plain": [
       "DataFrame[id: int, date: date]"
      ]
     },
     "execution_count": 212,
     "metadata": {},
     "output_type": "execute_result"
    }
   ],
   "source": [
    "df_train.select([\"id\", \"date\"])"
   ]
  },
  {
   "cell_type": "code",
   "execution_count": 213,
   "metadata": {},
   "outputs": [
    {
     "name": "stdout",
     "output_type": "stream",
     "text": [
      "+---+----------+\n",
      "| id|      date|\n",
      "+---+----------+\n",
      "|  0|2013-01-01|\n",
      "|  1|2013-01-01|\n",
      "|  2|2013-01-01|\n",
      "|  3|2013-01-01|\n",
      "|  4|2013-01-01|\n",
      "|  5|2013-01-01|\n",
      "|  6|2013-01-01|\n",
      "|  7|2013-01-01|\n",
      "|  8|2013-01-01|\n",
      "|  9|2013-01-01|\n",
      "| 10|2013-01-01|\n",
      "| 11|2013-01-01|\n",
      "| 12|2013-01-01|\n",
      "| 13|2013-01-01|\n",
      "| 14|2013-01-01|\n",
      "| 15|2013-01-01|\n",
      "| 16|2013-01-01|\n",
      "| 17|2013-01-01|\n",
      "| 18|2013-01-01|\n",
      "| 19|2013-01-01|\n",
      "+---+----------+\n",
      "only showing top 20 rows\n",
      "\n"
     ]
    }
   ],
   "source": [
    "df_train.select([\"id\", \"date\"]).show()"
   ]
  },
  {
   "cell_type": "code",
   "execution_count": 214,
   "metadata": {},
   "outputs": [
    {
     "data": {
      "text/plain": [
       "[('id', 'int'),\n",
       " ('date', 'date'),\n",
       " ('store_nbr', 'int'),\n",
       " ('family', 'string'),\n",
       " ('sales', 'double'),\n",
       " ('onpromotion', 'int')]"
      ]
     },
     "execution_count": 214,
     "metadata": {},
     "output_type": "execute_result"
    }
   ],
   "source": [
    "df_train.dtypes"
   ]
  },
  {
   "cell_type": "code",
   "execution_count": 215,
   "metadata": {},
   "outputs": [
    {
     "data": {
      "text/plain": [
       "DataFrame[summary: string, id: string, store_nbr: string, family: string, sales: string, onpromotion: string]"
      ]
     },
     "execution_count": 215,
     "metadata": {},
     "output_type": "execute_result"
    }
   ],
   "source": [
    "df_train.describe()"
   ]
  },
  {
   "cell_type": "code",
   "execution_count": 216,
   "metadata": {},
   "outputs": [],
   "source": [
    "#A partir de aqui es manipulación básica\n",
    "df_train = df_train.withColumn(\"Onpromotion tras 2 años\", df_train[\"onpromotion\"]+2)"
   ]
  },
  {
   "cell_type": "code",
   "execution_count": 217,
   "metadata": {},
   "outputs": [
    {
     "name": "stdout",
     "output_type": "stream",
     "text": [
      "+---+----------+---------+-------------------+-----+-----------+-----------------------+\n",
      "| id|      date|store_nbr|             family|sales|onpromotion|Onpromotion tras 2 años|\n",
      "+---+----------+---------+-------------------+-----+-----------+-----------------------+\n",
      "|  0|2013-01-01|        1|         AUTOMOTIVE|  0.0|          0|                      2|\n",
      "|  1|2013-01-01|        1|          BABY CARE|  0.0|          0|                      2|\n",
      "|  2|2013-01-01|        1|             BEAUTY|  0.0|          0|                      2|\n",
      "|  3|2013-01-01|        1|          BEVERAGES|  0.0|          0|                      2|\n",
      "|  4|2013-01-01|        1|              BOOKS|  0.0|          0|                      2|\n",
      "|  5|2013-01-01|        1|       BREAD/BAKERY|  0.0|          0|                      2|\n",
      "|  6|2013-01-01|        1|        CELEBRATION|  0.0|          0|                      2|\n",
      "|  7|2013-01-01|        1|           CLEANING|  0.0|          0|                      2|\n",
      "|  8|2013-01-01|        1|              DAIRY|  0.0|          0|                      2|\n",
      "|  9|2013-01-01|        1|               DELI|  0.0|          0|                      2|\n",
      "| 10|2013-01-01|        1|               EGGS|  0.0|          0|                      2|\n",
      "| 11|2013-01-01|        1|       FROZEN FOODS|  0.0|          0|                      2|\n",
      "| 12|2013-01-01|        1|          GROCERY I|  0.0|          0|                      2|\n",
      "| 13|2013-01-01|        1|         GROCERY II|  0.0|          0|                      2|\n",
      "| 14|2013-01-01|        1|           HARDWARE|  0.0|          0|                      2|\n",
      "| 15|2013-01-01|        1| HOME AND KITCHEN I|  0.0|          0|                      2|\n",
      "| 16|2013-01-01|        1|HOME AND KITCHEN II|  0.0|          0|                      2|\n",
      "| 17|2013-01-01|        1|    HOME APPLIANCES|  0.0|          0|                      2|\n",
      "| 18|2013-01-01|        1|          HOME CARE|  0.0|          0|                      2|\n",
      "| 19|2013-01-01|        1|         LADIESWEAR|  0.0|          0|                      2|\n",
      "+---+----------+---------+-------------------+-----+-----------+-----------------------+\n",
      "only showing top 20 rows\n",
      "\n"
     ]
    }
   ],
   "source": [
    "df_train.show()"
   ]
  },
  {
   "cell_type": "code",
   "execution_count": 218,
   "metadata": {},
   "outputs": [
    {
     "name": "stdout",
     "output_type": "stream",
     "text": [
      "+---+----------+---------+-------------------+-----+-----------+\n",
      "| id|      date|store_nbr|             family|sales|onpromotion|\n",
      "+---+----------+---------+-------------------+-----+-----------+\n",
      "|  0|2013-01-01|        1|         AUTOMOTIVE|  0.0|          0|\n",
      "|  1|2013-01-01|        1|          BABY CARE|  0.0|          0|\n",
      "|  2|2013-01-01|        1|             BEAUTY|  0.0|          0|\n",
      "|  3|2013-01-01|        1|          BEVERAGES|  0.0|          0|\n",
      "|  4|2013-01-01|        1|              BOOKS|  0.0|          0|\n",
      "|  5|2013-01-01|        1|       BREAD/BAKERY|  0.0|          0|\n",
      "|  6|2013-01-01|        1|        CELEBRATION|  0.0|          0|\n",
      "|  7|2013-01-01|        1|           CLEANING|  0.0|          0|\n",
      "|  8|2013-01-01|        1|              DAIRY|  0.0|          0|\n",
      "|  9|2013-01-01|        1|               DELI|  0.0|          0|\n",
      "| 10|2013-01-01|        1|               EGGS|  0.0|          0|\n",
      "| 11|2013-01-01|        1|       FROZEN FOODS|  0.0|          0|\n",
      "| 12|2013-01-01|        1|          GROCERY I|  0.0|          0|\n",
      "| 13|2013-01-01|        1|         GROCERY II|  0.0|          0|\n",
      "| 14|2013-01-01|        1|           HARDWARE|  0.0|          0|\n",
      "| 15|2013-01-01|        1| HOME AND KITCHEN I|  0.0|          0|\n",
      "| 16|2013-01-01|        1|HOME AND KITCHEN II|  0.0|          0|\n",
      "| 17|2013-01-01|        1|    HOME APPLIANCES|  0.0|          0|\n",
      "| 18|2013-01-01|        1|          HOME CARE|  0.0|          0|\n",
      "| 19|2013-01-01|        1|         LADIESWEAR|  0.0|          0|\n",
      "+---+----------+---------+-------------------+-----+-----------+\n",
      "only showing top 20 rows\n",
      "\n"
     ]
    }
   ],
   "source": [
    "df_train.drop(\"Onpromotion tras 2 años\").show()"
   ]
  },
  {
   "cell_type": "code",
   "execution_count": 219,
   "metadata": {},
   "outputs": [],
   "source": [
    "#version de train al que le añadi espacios vacios para simular nans\n",
    "df_train_null = spark.read.csv(\"../data/raw/train(null).csv\", header=True, inferSchema=True)"
   ]
  },
  {
   "cell_type": "code",
   "execution_count": 220,
   "metadata": {},
   "outputs": [
    {
     "name": "stdout",
     "output_type": "stream",
     "text": [
      "+---+----------+---------+-------------------+-----+-----------+\n",
      "| id|      date|store_nbr|             family|sales|onpromotion|\n",
      "+---+----------+---------+-------------------+-----+-----------+\n",
      "|  0|2013-01-01|        1|         AUTOMOTIVE|  0.0|          0|\n",
      "|  1|2013-01-01|     NULL|          BABY CARE| NULL|          0|\n",
      "|  2|      NULL|        1|             BEAUTY| NULL|       NULL|\n",
      "|  3|2013-01-01|        1|          BEVERAGES| NULL|       NULL|\n",
      "|  4|2013-01-01|        1|               NULL| NULL|       NULL|\n",
      "|  5|2013-01-01|     NULL|       BREAD/BAKERY| NULL|          0|\n",
      "|  6|2013-01-01|     NULL|               NULL|  0.0|       NULL|\n",
      "|  7|2013-01-01|        1|               NULL|  0.0|          0|\n",
      "|  8|      NULL|        1|               NULL|  0.0|          0|\n",
      "|  9|      NULL|     NULL|               DELI| NULL|       NULL|\n",
      "| 10|2013-01-01|        1|               EGGS|  0.0|          0|\n",
      "| 11|2013-01-01|        1|       FROZEN FOODS|  0.0|          0|\n",
      "| 12|2013-01-01|        1|          GROCERY I|  0.0|          0|\n",
      "| 13|2013-01-01|        1|         GROCERY II|  0.0|          0|\n",
      "| 14|2013-01-01|        1|           HARDWARE|  0.0|          0|\n",
      "| 15|2013-01-01|        1| HOME AND KITCHEN I|  0.0|          0|\n",
      "| 16|2013-01-01|        1|HOME AND KITCHEN II|  0.0|          0|\n",
      "| 17|2013-01-01|        1|    HOME APPLIANCES|  0.0|          0|\n",
      "| 18|2013-01-01|        1|          HOME CARE|  0.0|          0|\n",
      "| 19|2013-01-01|        1|         LADIESWEAR|  0.0|          0|\n",
      "+---+----------+---------+-------------------+-----+-----------+\n",
      "only showing top 20 rows\n",
      "\n"
     ]
    }
   ],
   "source": [
    "df_train_null.show()"
   ]
  },
  {
   "cell_type": "code",
   "execution_count": 221,
   "metadata": {},
   "outputs": [
    {
     "name": "stdout",
     "output_type": "stream",
     "text": [
      "+---+----+---------+------+-----+-----------+\n",
      "| id|date|store_nbr|family|sales|onpromotion|\n",
      "+---+----+---------+------+-----+-----------+\n",
      "|  0|   3|        4|     4|    6|          5|\n",
      "+---+----+---------+------+-----+-----------+\n",
      "\n"
     ]
    }
   ],
   "source": [
    "df_train_null.select([count(when(isnull(c), c)).alias(c) for c in df_train_null.columns]).show()"
   ]
  },
  {
   "cell_type": "code",
   "execution_count": 222,
   "metadata": {},
   "outputs": [
    {
     "name": "stdout",
     "output_type": "stream",
     "text": [
      "+---+----------+---------+--------------------+-----+-----------+\n",
      "| id|      date|store_nbr|              family|sales|onpromotion|\n",
      "+---+----------+---------+--------------------+-----+-----------+\n",
      "|  0|2013-01-01|        1|          AUTOMOTIVE|  0.0|          0|\n",
      "| 10|2013-01-01|        1|                EGGS|  0.0|          0|\n",
      "| 11|2013-01-01|        1|        FROZEN FOODS|  0.0|          0|\n",
      "| 12|2013-01-01|        1|           GROCERY I|  0.0|          0|\n",
      "| 13|2013-01-01|        1|          GROCERY II|  0.0|          0|\n",
      "| 14|2013-01-01|        1|            HARDWARE|  0.0|          0|\n",
      "| 15|2013-01-01|        1|  HOME AND KITCHEN I|  0.0|          0|\n",
      "| 16|2013-01-01|        1| HOME AND KITCHEN II|  0.0|          0|\n",
      "| 17|2013-01-01|        1|     HOME APPLIANCES|  0.0|          0|\n",
      "| 18|2013-01-01|        1|           HOME CARE|  0.0|          0|\n",
      "| 19|2013-01-01|        1|          LADIESWEAR|  0.0|          0|\n",
      "| 20|2013-01-01|        1|     LAWN AND GARDEN|  0.0|          0|\n",
      "| 21|2013-01-01|        1|            LINGERIE|  0.0|          0|\n",
      "| 22|2013-01-01|        1|    LIQUOR,WINE,BEER|  0.0|          0|\n",
      "| 23|2013-01-01|        1|           MAGAZINES|  0.0|          0|\n",
      "| 24|2013-01-01|        1|               MEATS|  0.0|          0|\n",
      "| 25|2013-01-01|        1|       PERSONAL CARE|  0.0|          0|\n",
      "| 26|2013-01-01|        1|        PET SUPPLIES|  0.0|          0|\n",
      "| 27|2013-01-01|        1|PLAYERS AND ELECT...|  0.0|          0|\n",
      "| 28|2013-01-01|        1|             POULTRY|  0.0|          0|\n",
      "+---+----------+---------+--------------------+-----+-----------+\n",
      "only showing top 20 rows\n",
      "\n"
     ]
    }
   ],
   "source": [
    "#Con tresh le decimos cuantos valores NO NULOS queremos tener en las filas.\n",
    "#Por ejemplo, si de las 6 columnas, 2 son nan, y le pedimos que el tresh sea 3 (minimo 3 valores no null), mantendra esas filas.\n",
    "df_train_null.na.drop(how=\"any\",thresh=6).show()"
   ]
  },
  {
   "cell_type": "code",
   "execution_count": 223,
   "metadata": {},
   "outputs": [
    {
     "name": "stdout",
     "output_type": "stream",
     "text": [
      "+---+----------+---------+-------------------+-----+-----------+\n",
      "| id|      date|store_nbr|             family|sales|onpromotion|\n",
      "+---+----------+---------+-------------------+-----+-----------+\n",
      "|  0|2013-01-01|        1|         AUTOMOTIVE|  0.0|          0|\n",
      "|  1|2013-01-01|     NULL|          BABY CARE| NULL|          0|\n",
      "|  5|2013-01-01|     NULL|       BREAD/BAKERY| NULL|          0|\n",
      "|  7|2013-01-01|        1|               NULL|  0.0|          0|\n",
      "|  8|      NULL|        1|               NULL|  0.0|          0|\n",
      "| 10|2013-01-01|        1|               EGGS|  0.0|          0|\n",
      "| 11|2013-01-01|        1|       FROZEN FOODS|  0.0|          0|\n",
      "| 12|2013-01-01|        1|          GROCERY I|  0.0|          0|\n",
      "| 13|2013-01-01|        1|         GROCERY II|  0.0|          0|\n",
      "| 14|2013-01-01|        1|           HARDWARE|  0.0|          0|\n",
      "| 15|2013-01-01|        1| HOME AND KITCHEN I|  0.0|          0|\n",
      "| 16|2013-01-01|        1|HOME AND KITCHEN II|  0.0|          0|\n",
      "| 17|2013-01-01|        1|    HOME APPLIANCES|  0.0|          0|\n",
      "| 18|2013-01-01|        1|          HOME CARE|  0.0|          0|\n",
      "| 19|2013-01-01|        1|         LADIESWEAR|  0.0|          0|\n",
      "| 20|2013-01-01|        1|    LAWN AND GARDEN|  0.0|          0|\n",
      "| 21|2013-01-01|        1|           LINGERIE|  0.0|          0|\n",
      "| 22|2013-01-01|        1|   LIQUOR,WINE,BEER|  0.0|          0|\n",
      "| 23|2013-01-01|        1|          MAGAZINES|  0.0|          0|\n",
      "| 24|2013-01-01|        1|              MEATS|  0.0|          0|\n",
      "+---+----------+---------+-------------------+-----+-----------+\n",
      "only showing top 20 rows\n",
      "\n"
     ]
    }
   ],
   "source": [
    "df_train_null.na.drop(how=\"any\",subset=[\"onpromotion\"]).show()"
   ]
  },
  {
   "cell_type": "code",
   "execution_count": 224,
   "metadata": {},
   "outputs": [
    {
     "name": "stdout",
     "output_type": "stream",
     "text": [
      "+---+----------+---------+-------------------+-----+-----------+\n",
      "| id|      date|store_nbr|             family|sales|onpromotion|\n",
      "+---+----------+---------+-------------------+-----+-----------+\n",
      "|  0|2013-01-01|        1|         AUTOMOTIVE|  0.0|          0|\n",
      "|  1|2013-01-01|     NULL|          BABY CARE| NULL|          0|\n",
      "|  2|      NULL|        1|             BEAUTY| NULL|       NULL|\n",
      "|  3|2013-01-01|        1|          BEVERAGES| NULL|       NULL|\n",
      "|  4|2013-01-01|        1|     Missing Values| NULL|       NULL|\n",
      "|  5|2013-01-01|     NULL|       BREAD/BAKERY| NULL|          0|\n",
      "|  6|2013-01-01|     NULL|     Missing Values|  0.0|       NULL|\n",
      "|  7|2013-01-01|        1|     Missing Values|  0.0|          0|\n",
      "|  8|      NULL|        1|     Missing Values|  0.0|          0|\n",
      "|  9|      NULL|     NULL|               DELI| NULL|       NULL|\n",
      "| 10|2013-01-01|        1|               EGGS|  0.0|          0|\n",
      "| 11|2013-01-01|        1|       FROZEN FOODS|  0.0|          0|\n",
      "| 12|2013-01-01|        1|          GROCERY I|  0.0|          0|\n",
      "| 13|2013-01-01|        1|         GROCERY II|  0.0|          0|\n",
      "| 14|2013-01-01|        1|           HARDWARE|  0.0|          0|\n",
      "| 15|2013-01-01|        1| HOME AND KITCHEN I|  0.0|          0|\n",
      "| 16|2013-01-01|        1|HOME AND KITCHEN II|  0.0|          0|\n",
      "| 17|2013-01-01|        1|    HOME APPLIANCES|  0.0|          0|\n",
      "| 18|2013-01-01|        1|          HOME CARE|  0.0|          0|\n",
      "| 19|2013-01-01|        1|         LADIESWEAR|  0.0|          0|\n",
      "+---+----------+---------+-------------------+-----+-----------+\n",
      "only showing top 20 rows\n",
      "\n"
     ]
    }
   ],
   "source": [
    "df_train_null.na.fill(\"Missing Values\",[\"family\"]).show()"
   ]
  },
  {
   "cell_type": "code",
   "execution_count": 225,
   "metadata": {},
   "outputs": [
    {
     "name": "stdout",
     "output_type": "stream",
     "text": [
      "+---+----------+---------+-------------------+-----+-----------+\n",
      "| id|      date|store_nbr|             family|sales|onpromotion|\n",
      "+---+----------+---------+-------------------+-----+-----------+\n",
      "|  0|2013-01-01|        1|         AUTOMOTIVE|  0.0|          0|\n",
      "|  1|2013-01-01|     NULL|          BABY CARE|  0.0|          0|\n",
      "|  2|      NULL|        1|             BEAUTY|  0.0|       NULL|\n",
      "|  3|2013-01-01|        1|          BEVERAGES|  0.0|       NULL|\n",
      "|  4|2013-01-01|        1|               NULL|  0.0|       NULL|\n",
      "|  5|2013-01-01|     NULL|       BREAD/BAKERY|  0.0|          0|\n",
      "|  6|2013-01-01|     NULL|               NULL|  0.0|       NULL|\n",
      "|  7|2013-01-01|        1|               NULL|  0.0|          0|\n",
      "|  8|      NULL|        1|               NULL|  0.0|          0|\n",
      "|  9|      NULL|     NULL|               DELI|  0.0|       NULL|\n",
      "| 10|2013-01-01|        1|               EGGS|  0.0|          0|\n",
      "| 11|2013-01-01|        1|       FROZEN FOODS|  0.0|          0|\n",
      "| 12|2013-01-01|        1|          GROCERY I|  0.0|          0|\n",
      "| 13|2013-01-01|        1|         GROCERY II|  0.0|          0|\n",
      "| 14|2013-01-01|        1|           HARDWARE|  0.0|          0|\n",
      "| 15|2013-01-01|        1| HOME AND KITCHEN I|  0.0|          0|\n",
      "| 16|2013-01-01|        1|HOME AND KITCHEN II|  0.0|          0|\n",
      "| 17|2013-01-01|        1|    HOME APPLIANCES|  0.0|          0|\n",
      "| 18|2013-01-01|        1|          HOME CARE|  0.0|          0|\n",
      "| 19|2013-01-01|        1|         LADIESWEAR|  0.0|          0|\n",
      "+---+----------+---------+-------------------+-----+-----------+\n",
      "only showing top 20 rows\n",
      "\n"
     ]
    }
   ],
   "source": [
    "df_train_null.na.fill(0,[\"sales\"]).show()"
   ]
  }
 ],
 "metadata": {
  "kernelspec": {
   "display_name": "Python 3",
   "language": "python",
   "name": "python3"
  },
  "language_info": {
   "codemirror_mode": {
    "name": "ipython",
    "version": 3
   },
   "file_extension": ".py",
   "mimetype": "text/x-python",
   "name": "python",
   "nbconvert_exporter": "python",
   "pygments_lexer": "ipython3",
   "version": "3.11.3"
  }
 },
 "nbformat": 4,
 "nbformat_minor": 2
}

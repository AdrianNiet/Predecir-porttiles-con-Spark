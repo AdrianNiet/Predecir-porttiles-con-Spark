{
 "cells": [
  {
   "cell_type": "code",
   "execution_count": 1,
   "metadata": {},
   "outputs": [],
   "source": [
    "from pyspark.sql import SparkSession\n",
    "from pyspark.ml.feature import Imputer"
   ]
  },
  {
   "cell_type": "code",
   "execution_count": 2,
   "metadata": {},
   "outputs": [],
   "source": [
    "spark = SparkSession.builder.appName(\"practica\").getOrCreate()"
   ]
  },
  {
   "cell_type": "code",
   "execution_count": 5,
   "metadata": {},
   "outputs": [],
   "source": [
    "df_train_null = spark.read.csv(\"../data/raw/train(null).csv\", header=True, inferSchema=True)"
   ]
  },
  {
   "cell_type": "code",
   "execution_count": 6,
   "metadata": {},
   "outputs": [
    {
     "name": "stdout",
     "output_type": "stream",
     "text": [
      "+---+----------+---------+-------------------+-----+-----------+-----------------+-------------+-------------------+\n",
      "| id|      date|store_nbr|             family|sales|onpromotion|store_nbr_inputed|sales_inputed|onpromotion_inputed|\n",
      "+---+----------+---------+-------------------+-----+-----------+-----------------+-------------+-------------------+\n",
      "|  0|2013-01-01|        1|         AUTOMOTIVE|  0.0|          0|                1|          0.0|                  0|\n",
      "|  1|2013-01-01|     NULL|          BABY CARE| NULL|          0|               28|         11.0|                  0|\n",
      "|  2|      NULL|        1|             BEAUTY| NULL|       NULL|                1|         11.0|                  0|\n",
      "|  3|2013-01-01|        1|          BEVERAGES| NULL|       NULL|                1|         11.0|                  0|\n",
      "|  4|2013-01-01|        1|               NULL| NULL|       NULL|                1|         11.0|                  0|\n",
      "|  5|2013-01-01|     NULL|       BREAD/BAKERY| NULL|          0|               28|         11.0|                  0|\n",
      "|  6|2013-01-01|     NULL|               NULL|  0.0|       NULL|               28|          0.0|                  0|\n",
      "|  7|2013-01-01|        1|               NULL|  0.0|          0|                1|          0.0|                  0|\n",
      "|  8|      NULL|        1|               NULL|  0.0|          0|                1|          0.0|                  0|\n",
      "|  9|      NULL|     NULL|               DELI| NULL|       NULL|               28|         11.0|                  0|\n",
      "| 10|2013-01-01|        1|               EGGS|  0.0|          0|                1|          0.0|                  0|\n",
      "| 11|2013-01-01|        1|       FROZEN FOODS|  0.0|          0|                1|          0.0|                  0|\n",
      "| 12|2013-01-01|        1|          GROCERY I|  0.0|          0|                1|          0.0|                  0|\n",
      "| 13|2013-01-01|        1|         GROCERY II|  0.0|          0|                1|          0.0|                  0|\n",
      "| 14|2013-01-01|        1|           HARDWARE|  0.0|          0|                1|          0.0|                  0|\n",
      "| 15|2013-01-01|        1| HOME AND KITCHEN I|  0.0|          0|                1|          0.0|                  0|\n",
      "| 16|2013-01-01|        1|HOME AND KITCHEN II|  0.0|          0|                1|          0.0|                  0|\n",
      "| 17|2013-01-01|        1|    HOME APPLIANCES|  0.0|          0|                1|          0.0|                  0|\n",
      "| 18|2013-01-01|        1|          HOME CARE|  0.0|          0|                1|          0.0|                  0|\n",
      "| 19|2013-01-01|        1|         LADIESWEAR|  0.0|          0|                1|          0.0|                  0|\n",
      "+---+----------+---------+-------------------+-----+-----------+-----------------+-------------+-------------------+\n",
      "only showing top 20 rows\n",
      "\n"
     ]
    }
   ],
   "source": [
    "#imputer servira para rellenar columnas con nans, en este caso, los nans de las columnas \"store_nbr\", \"sales\" y \"onpromotion\" seran rellenadas con las medias de su respectiva columna.\n",
    "imputer = Imputer(inputCols=[\"store_nbr\", \"sales\",\"onpromotion\"],\n",
    "                  outputCols=[\"{}_inputed\".format(i) for i in [\"store_nbr\", \"sales\",\"onpromotion\"]]\n",
    "                  ).setStrategy(\"median\")\n",
    "\n",
    "imputer.fit(df_train_null).transform(df_train_null).show()"
   ]
  }
 ],
 "metadata": {
  "kernelspec": {
   "display_name": "Python 3",
   "language": "python",
   "name": "python3"
  },
  "language_info": {
   "codemirror_mode": {
    "name": "ipython",
    "version": 3
   },
   "file_extension": ".py",
   "mimetype": "text/x-python",
   "name": "python",
   "nbconvert_exporter": "python",
   "pygments_lexer": "ipython3",
   "version": "3.11.3"
  }
 },
 "nbformat": 4,
 "nbformat_minor": 2
}

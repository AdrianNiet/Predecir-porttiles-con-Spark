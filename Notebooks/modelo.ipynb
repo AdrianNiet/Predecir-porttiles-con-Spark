{
 "cells": [
  {
   "cell_type": "code",
   "execution_count": 72,
   "metadata": {},
   "outputs": [],
   "source": [
    "from pyspark.sql import SparkSession\n",
    "from pyspark.ml.feature import VectorAssembler\n",
    "from pyspark.ml.regression import LinearRegression\n"
   ]
  },
  {
   "cell_type": "code",
   "execution_count": null,
   "metadata": {},
   "outputs": [],
   "source": [
    "#listos para crear el modelo.\n",
    "#primero crearemos sesion y nos aseguraremos de que esta bien."
   ]
  },
  {
   "cell_type": "code",
   "execution_count": 52,
   "metadata": {},
   "outputs": [],
   "source": [
    "spark = SparkSession.builder.appName(\"practica\").getOrCreate()"
   ]
  },
  {
   "cell_type": "code",
   "execution_count": 53,
   "metadata": {},
   "outputs": [],
   "source": [
    "df_train = spark.read.csv(\"../data/processed/train/train.csv\", header=True, inferSchema=True)"
   ]
  },
  {
   "cell_type": "code",
   "execution_count": 54,
   "metadata": {},
   "outputs": [
    {
     "name": "stdout",
     "output_type": "stream",
     "text": [
      "+---+-----------+-----+----------+-----------+----------+------+---------+--------+-----+------+--------------+---------------+--------------+---------+-----+-----+-------+------------------+\n",
      "|Ram|Price_euros|Intel|Intel_baja|Intel_media|Intel_alta|Gaming|Ultrabook|Notebook|  AMD|Nvidia|Nvidia_Geforce|Nvidia_graphics|Intel_graphics|Screen_HD|  SSD|  HDD|HDD+SSD|               ppi|\n",
      "+---+-----------+-----+----------+-----------+----------+------+---------+--------+-----+------+--------------+---------------+--------------+---------+-----+-----+-------+------------------+\n",
      "|  8|      749.0| true|     false|      false|     false| false|    false|    true|false| false|         false|          false|         false|    false|false| true|  false|100.45466986113651|\n",
      "|  4|      449.0| true|     false|      false|     false| false|    false|    true|false| false|         false|           true|          true|    false|false| true|  false|100.45466986113651|\n",
      "|  8|     1460.0| true|     false|      false|     false| false|    false|    true|false| false|         false|           true|          true|     true| true|false|  false| 165.6321180513006|\n",
      "| 16|    2868.99| true|     false|      false|     false|  true|    false|   false|false|  true|         false|          false|         false|     true| true| true|   true|282.42399616439724|\n",
      "|  8|    1713.37| true|     false|      false|     false| false|     true|   false|false| false|         false|           true|          true|     true| true|false|  false|176.23257360658386|\n",
      "| 12|     1099.0| true|     false|      false|     false| false|    false|   false|false|  true|         false|          false|         false|     true| true| true|   true|141.21199808219862|\n",
      "|  4|      415.0| true|     false|      false|     false| false|    false|    true|false| false|         false|           true|          true|     true| true|false|  false|141.21199808219862|\n",
      "|  8|     1142.8| true|     false|      false|     false|  true|    false|   false|false|  true|         false|          false|         false|     true| true| true|   true|141.21199808219862|\n",
      "|  8|     1193.0| true|     false|      false|     false| false|     true|   false|false|  true|         false|          false|         false|     true| true|false|  false| 157.3505121487356|\n",
      "| 16|     1600.0| true|     false|      false|     false|  true|    false|   false|false|  true|         false|          false|         false|     true| true| true|   true|141.21199808219862|\n",
      "|  4|      309.0| true|     false|      false|     false| false|    false|    true|false| false|         false|           true|          true|    false|false| true|  false|100.45466986113651|\n",
      "|  8|      855.0| true|     false|      false|     false| false|    false|    true|false| false|         false|           true|          true|     true| true| true|   true|141.21199808219862|\n",
      "|  8|     1119.0| true|     false|      false|     false| false|    false|    true|false| false|         false|           true|          true|    false| true|false|  false|100.45466986113651|\n",
      "|  6|      649.0|false|     false|      false|     false| false|    false|    true| true| false|         false|          false|         false|     true| true|false|  false|141.21199808219862|\n",
      "|  4|      499.0| true|     false|      false|     false| false|    false|    true|false| false|         false|           true|          true|    false| true|false|  false|111.93520355955211|\n",
      "|  8|    1096.16| true|     false|      false|     false| false|     true|   false|false| false|         false|           true|          true|     true| true|false|  false|141.21199808219862|\n",
      "|  4|      629.0| true|     false|      false|     false| false|    false|   false|false| false|         false|           true|          true|     true| true|false|  false| 157.3505121487356|\n",
      "|  6|      549.0| true|     false|      false|     false| false|    false|    true|false| false|         false|           true|          true|    false|false| true|  false|100.45466986113651|\n",
      "| 32|     4899.0| true|     false|      false|     false| false|    false|    true|false|  true|         false|          false|         false|     true| true|false|  false|282.42399616439724|\n",
      "|  8|      854.0| true|     false|      false|     false| false|    false|    true|false|  true|         false|          false|         false|     true| true|false|  false|127.33567457123111|\n",
      "+---+-----------+-----+----------+-----------+----------+------+---------+--------+-----+------+--------------+---------------+--------------+---------+-----+-----+-------+------------------+\n",
      "only showing top 20 rows\n",
      "\n"
     ]
    }
   ],
   "source": [
    "df_train.show()"
   ]
  },
  {
   "cell_type": "code",
   "execution_count": 55,
   "metadata": {},
   "outputs": [],
   "source": [
    "df_test = spark.read.csv(\"../data/processed/test/test.csv\", header=True, inferSchema=True)"
   ]
  },
  {
   "cell_type": "code",
   "execution_count": 56,
   "metadata": {},
   "outputs": [
    {
     "name": "stdout",
     "output_type": "stream",
     "text": [
      "+---+-----+----------+-----------+----------+------+---------+--------+-----+------+--------------+---------------+--------------+---------+-----+-----+-------+------------------+\n",
      "|Ram|Intel|Intel_baja|Intel_media|Intel_alta|Gaming|Ultrabook|Notebook|  AMD|Nvidia|Nvidia_Geforce|Nvidia_graphics|Intel_graphics|Screen_HD|  SSD|  HDD|HDD+SSD|               ppi|\n",
      "+---+-----+----------+-----------+----------+------+---------+--------+-----+------+--------------+---------------+--------------+---------+-----+-----+-------+------------------+\n",
      "| 16| true|     false|      false|     false| false|     true|   false|false| false|         false|           true|          true|     true| true|false|  false| 331.2642361026012|\n",
      "|  8|false|     false|      false|     false| false|    false|    true| true| false|         false|          false|         false|    false| true|false|  false|100.45466986113651|\n",
      "|  4| true|     false|      false|     false| false|    false|    true|false| false|         false|           true|          true|    false|false| true|  false|100.45466986113651|\n",
      "|  8| true|     false|      false|     false| false|    false|    true|false| false|         false|           true|          true|     true| true|false|  false| 157.3505121487356|\n",
      "|  8| true|     false|      false|     false| false|    false|    true|false| false|         false|           true|          true|     true| true|false|  false| 165.6321180513006|\n",
      "| 16| true|     false|      false|     false| false|    false|   false|false| false|         false|           true|          true|     true| true|false|  false|141.21199808219862|\n",
      "| 16| true|     false|      false|     false|  true|    false|   false|false|  true|         false|          false|         false|     true| true|false|  false| 157.3505121487356|\n",
      "|  4| true|     false|      false|     false| false|    false|    true|false|  true|         false|          false|         false|     true|false| true|  false|141.21199808219862|\n",
      "| 64| true|     false|      false|     false|  true|    false|   false|false|  true|         false|          false|         false|     true| true|false|  false|127.33567457123111|\n",
      "|  8| true|     false|      false|     false| false|    false|   false|false| false|         false|           true|          true|    false| true|false|  false| 209.8006828649808|\n",
      "|  8| true|     false|      false|     false| false|     true|   false|false| false|         false|           true|          true|     true| true|false|  false| 165.6321180513006|\n",
      "|  4| true|     false|      false|     false| false|    false|    true|false| false|         false|          false|         false|    false|false| true|  false|100.45466986113651|\n",
      "|  4| true|     false|      false|     false| false|    false|    true|false| false|         false|           true|          true|     true|false|false|  false| 165.6321180513006|\n",
      "|  4| true|     false|      false|     false| false|    false|    true|false| false|         false|           true|          true|     true| true|false|  false| 157.3505121487356|\n",
      "|  4| true|     false|      false|     false| false|    false|    true|false| false|         false|           true|          true|     true|false| true|  false|141.21199808219862|\n",
      "|  8| true|     false|      false|     false| false|    false|   false|false| false|         false|           true|          true|     true| true|false|  false|194.94753717542463|\n",
      "|  4| true|     false|      false|     false| false|    false|   false|false| false|         false|           true|          true|     true|false|false|  false|189.90579052433606|\n",
      "|  8| true|     false|      false|     false| false|    false|   false|false| false|         false|           true|          true|    false| true|false|  false|220.84282406840083|\n",
      "|  8| true|     false|      false|     false| false|    false|   false|false| false|         false|           true|          true|     true| true|false|  false| 165.6321180513006|\n",
      "|  8| true|     false|      false|     false| false|     true|   false|false| false|         false|           true|          true|     true| true|false|  false| 165.6321180513006|\n",
      "+---+-----+----------+-----------+----------+------+---------+--------+-----+------+--------------+---------------+--------------+---------+-----+-----+-------+------------------+\n",
      "only showing top 20 rows\n",
      "\n"
     ]
    }
   ],
   "source": [
    "df_test.show()"
   ]
  },
  {
   "cell_type": "code",
   "execution_count": 57,
   "metadata": {},
   "outputs": [],
   "source": [
    "#Separamos en X e y.\n",
    "X = df_train.drop(\"price_euros\")\n",
    "y = df_train.select(\"price_euros\")"
   ]
  },
  {
   "cell_type": "code",
   "execution_count": 58,
   "metadata": {},
   "outputs": [
    {
     "name": "stdout",
     "output_type": "stream",
     "text": [
      "+---+-----+----------+-----------+----------+------+---------+--------+-----+------+--------------+---------------+--------------+---------+-----+-----+-------+------------------+\n",
      "|Ram|Intel|Intel_baja|Intel_media|Intel_alta|Gaming|Ultrabook|Notebook|  AMD|Nvidia|Nvidia_Geforce|Nvidia_graphics|Intel_graphics|Screen_HD|  SSD|  HDD|HDD+SSD|               ppi|\n",
      "+---+-----+----------+-----------+----------+------+---------+--------+-----+------+--------------+---------------+--------------+---------+-----+-----+-------+------------------+\n",
      "|  8| true|     false|      false|     false| false|    false|    true|false| false|         false|          false|         false|    false|false| true|  false|100.45466986113651|\n",
      "|  4| true|     false|      false|     false| false|    false|    true|false| false|         false|           true|          true|    false|false| true|  false|100.45466986113651|\n",
      "|  8| true|     false|      false|     false| false|    false|    true|false| false|         false|           true|          true|     true| true|false|  false| 165.6321180513006|\n",
      "| 16| true|     false|      false|     false|  true|    false|   false|false|  true|         false|          false|         false|     true| true| true|   true|282.42399616439724|\n",
      "|  8| true|     false|      false|     false| false|     true|   false|false| false|         false|           true|          true|     true| true|false|  false|176.23257360658386|\n",
      "| 12| true|     false|      false|     false| false|    false|   false|false|  true|         false|          false|         false|     true| true| true|   true|141.21199808219862|\n",
      "|  4| true|     false|      false|     false| false|    false|    true|false| false|         false|           true|          true|     true| true|false|  false|141.21199808219862|\n",
      "|  8| true|     false|      false|     false|  true|    false|   false|false|  true|         false|          false|         false|     true| true| true|   true|141.21199808219862|\n",
      "|  8| true|     false|      false|     false| false|     true|   false|false|  true|         false|          false|         false|     true| true|false|  false| 157.3505121487356|\n",
      "| 16| true|     false|      false|     false|  true|    false|   false|false|  true|         false|          false|         false|     true| true| true|   true|141.21199808219862|\n",
      "|  4| true|     false|      false|     false| false|    false|    true|false| false|         false|           true|          true|    false|false| true|  false|100.45466986113651|\n",
      "|  8| true|     false|      false|     false| false|    false|    true|false| false|         false|           true|          true|     true| true| true|   true|141.21199808219862|\n",
      "|  8| true|     false|      false|     false| false|    false|    true|false| false|         false|           true|          true|    false| true|false|  false|100.45466986113651|\n",
      "|  6|false|     false|      false|     false| false|    false|    true| true| false|         false|          false|         false|     true| true|false|  false|141.21199808219862|\n",
      "|  4| true|     false|      false|     false| false|    false|    true|false| false|         false|           true|          true|    false| true|false|  false|111.93520355955211|\n",
      "|  8| true|     false|      false|     false| false|     true|   false|false| false|         false|           true|          true|     true| true|false|  false|141.21199808219862|\n",
      "|  4| true|     false|      false|     false| false|    false|   false|false| false|         false|           true|          true|     true| true|false|  false| 157.3505121487356|\n",
      "|  6| true|     false|      false|     false| false|    false|    true|false| false|         false|           true|          true|    false|false| true|  false|100.45466986113651|\n",
      "| 32| true|     false|      false|     false| false|    false|    true|false|  true|         false|          false|         false|     true| true|false|  false|282.42399616439724|\n",
      "|  8| true|     false|      false|     false| false|    false|    true|false|  true|         false|          false|         false|     true| true|false|  false|127.33567457123111|\n",
      "+---+-----+----------+-----------+----------+------+---------+--------+-----+------+--------------+---------------+--------------+---------+-----+-----+-------+------------------+\n",
      "only showing top 20 rows\n",
      "\n"
     ]
    }
   ],
   "source": [
    "X.show()"
   ]
  },
  {
   "cell_type": "code",
   "execution_count": 59,
   "metadata": {},
   "outputs": [
    {
     "name": "stdout",
     "output_type": "stream",
     "text": [
      "+-----------+\n",
      "|price_euros|\n",
      "+-----------+\n",
      "|      749.0|\n",
      "|      449.0|\n",
      "|     1460.0|\n",
      "|    2868.99|\n",
      "|    1713.37|\n",
      "|     1099.0|\n",
      "|      415.0|\n",
      "|     1142.8|\n",
      "|     1193.0|\n",
      "|     1600.0|\n",
      "|      309.0|\n",
      "|      855.0|\n",
      "|     1119.0|\n",
      "|      649.0|\n",
      "|      499.0|\n",
      "|    1096.16|\n",
      "|      629.0|\n",
      "|      549.0|\n",
      "|     4899.0|\n",
      "|      854.0|\n",
      "+-----------+\n",
      "only showing top 20 rows\n",
      "\n"
     ]
    }
   ],
   "source": [
    "y.show()"
   ]
  },
  {
   "cell_type": "code",
   "execution_count": 65,
   "metadata": {},
   "outputs": [],
   "source": [
    "#Aqui ensamblamos los vectores para el train, tenemos que hacerlo en la DF X que NO tiene la variable objetivo, siendo esta price_euros\n",
    "vector_assembler_train = VectorAssembler(inputCols=X.columns, outputCol=\"features\")\n",
    "#Le metemos el ensamblado a la df_train y lo guardamos en una nueva variable.\n",
    "X_assembled = vector_assembler_train.transform(df_train)"
   ]
  },
  {
   "cell_type": "code",
   "execution_count": 66,
   "metadata": {},
   "outputs": [
    {
     "name": "stdout",
     "output_type": "stream",
     "text": [
      "+---+-----------+-----+----------+-----------+----------+------+---------+--------+-----+------+--------------+---------------+--------------+---------+-----+-----+-------+------------------+--------------------+\n",
      "|Ram|Price_euros|Intel|Intel_baja|Intel_media|Intel_alta|Gaming|Ultrabook|Notebook|  AMD|Nvidia|Nvidia_Geforce|Nvidia_graphics|Intel_graphics|Screen_HD|  SSD|  HDD|HDD+SSD|               ppi|            features|\n",
      "+---+-----------+-----+----------+-----------+----------+------+---------+--------+-----+------+--------------+---------------+--------------+---------+-----+-----+-------+------------------+--------------------+\n",
      "|  8|      749.0| true|     false|      false|     false| false|    false|    true|false| false|         false|          false|         false|    false|false| true|  false|100.45466986113651|(18,[0,1,7,15,17]...|\n",
      "|  4|      449.0| true|     false|      false|     false| false|    false|    true|false| false|         false|           true|          true|    false|false| true|  false|100.45466986113651|(18,[0,1,7,11,12,...|\n",
      "|  8|     1460.0| true|     false|      false|     false| false|    false|    true|false| false|         false|           true|          true|     true| true|false|  false| 165.6321180513006|(18,[0,1,7,11,12,...|\n",
      "| 16|    2868.99| true|     false|      false|     false|  true|    false|   false|false|  true|         false|          false|         false|     true| true| true|   true|282.42399616439724|(18,[0,1,5,9,13,1...|\n",
      "|  8|    1713.37| true|     false|      false|     false| false|     true|   false|false| false|         false|           true|          true|     true| true|false|  false|176.23257360658386|(18,[0,1,6,11,12,...|\n",
      "| 12|     1099.0| true|     false|      false|     false| false|    false|   false|false|  true|         false|          false|         false|     true| true| true|   true|141.21199808219862|(18,[0,1,9,13,14,...|\n",
      "|  4|      415.0| true|     false|      false|     false| false|    false|    true|false| false|         false|           true|          true|     true| true|false|  false|141.21199808219862|(18,[0,1,7,11,12,...|\n",
      "|  8|     1142.8| true|     false|      false|     false|  true|    false|   false|false|  true|         false|          false|         false|     true| true| true|   true|141.21199808219862|(18,[0,1,5,9,13,1...|\n",
      "|  8|     1193.0| true|     false|      false|     false| false|     true|   false|false|  true|         false|          false|         false|     true| true|false|  false| 157.3505121487356|(18,[0,1,6,9,13,1...|\n",
      "| 16|     1600.0| true|     false|      false|     false|  true|    false|   false|false|  true|         false|          false|         false|     true| true| true|   true|141.21199808219862|(18,[0,1,5,9,13,1...|\n",
      "|  4|      309.0| true|     false|      false|     false| false|    false|    true|false| false|         false|           true|          true|    false|false| true|  false|100.45466986113651|(18,[0,1,7,11,12,...|\n",
      "|  8|      855.0| true|     false|      false|     false| false|    false|    true|false| false|         false|           true|          true|     true| true| true|   true|141.21199808219862|(18,[0,1,7,11,12,...|\n",
      "|  8|     1119.0| true|     false|      false|     false| false|    false|    true|false| false|         false|           true|          true|    false| true|false|  false|100.45466986113651|(18,[0,1,7,11,12,...|\n",
      "|  6|      649.0|false|     false|      false|     false| false|    false|    true| true| false|         false|          false|         false|     true| true|false|  false|141.21199808219862|(18,[0,7,8,13,14,...|\n",
      "|  4|      499.0| true|     false|      false|     false| false|    false|    true|false| false|         false|           true|          true|    false| true|false|  false|111.93520355955211|(18,[0,1,7,11,12,...|\n",
      "|  8|    1096.16| true|     false|      false|     false| false|     true|   false|false| false|         false|           true|          true|     true| true|false|  false|141.21199808219862|(18,[0,1,6,11,12,...|\n",
      "|  4|      629.0| true|     false|      false|     false| false|    false|   false|false| false|         false|           true|          true|     true| true|false|  false| 157.3505121487356|(18,[0,1,11,12,13...|\n",
      "|  6|      549.0| true|     false|      false|     false| false|    false|    true|false| false|         false|           true|          true|    false|false| true|  false|100.45466986113651|(18,[0,1,7,11,12,...|\n",
      "| 32|     4899.0| true|     false|      false|     false| false|    false|    true|false|  true|         false|          false|         false|     true| true|false|  false|282.42399616439724|(18,[0,1,7,9,13,1...|\n",
      "|  8|      854.0| true|     false|      false|     false| false|    false|    true|false|  true|         false|          false|         false|     true| true|false|  false|127.33567457123111|(18,[0,1,7,9,13,1...|\n",
      "+---+-----------+-----+----------+-----------+----------+------+---------+--------+-----+------+--------------+---------------+--------------+---------+-----+-----+-------+------------------+--------------------+\n",
      "only showing top 20 rows\n",
      "\n"
     ]
    }
   ],
   "source": [
    "#Mis datos de test tienen un total de 18 columnas, no puedo hacer el ensamblado con la variable target porque si no, serian un total de 19 columnas.\n",
    "#El (18... ese numero debe ser el mismo para ambas DF.\n",
    "X_assembled.show()"
   ]
  },
  {
   "cell_type": "code",
   "execution_count": 68,
   "metadata": {},
   "outputs": [],
   "source": [
    "#Creamos un modelo sencillo para probar.\n",
    "lr_model = LinearRegression(featuresCol=\"features\", labelCol=\"Price_euros\")\n",
    "lr_model = lr_model.fit(X_assembled)"
   ]
  },
  {
   "cell_type": "code",
   "execution_count": 69,
   "metadata": {},
   "outputs": [],
   "source": [
    "#ensamblamos test.\n",
    "vector_assembler_test = VectorAssembler(inputCols=df_test.columns, outputCol=\"features\")\n",
    "test_assembled = vector_assembler_test.transform(df_test)"
   ]
  },
  {
   "cell_type": "code",
   "execution_count": 70,
   "metadata": {},
   "outputs": [
    {
     "name": "stdout",
     "output_type": "stream",
     "text": [
      "+---+-----+----------+-----------+----------+------+---------+--------+-----+------+--------------+---------------+--------------+---------+-----+-----+-------+------------------+--------------------+\n",
      "|Ram|Intel|Intel_baja|Intel_media|Intel_alta|Gaming|Ultrabook|Notebook|  AMD|Nvidia|Nvidia_Geforce|Nvidia_graphics|Intel_graphics|Screen_HD|  SSD|  HDD|HDD+SSD|               ppi|            features|\n",
      "+---+-----+----------+-----------+----------+------+---------+--------+-----+------+--------------+---------------+--------------+---------+-----+-----+-------+------------------+--------------------+\n",
      "| 16| true|     false|      false|     false| false|     true|   false|false| false|         false|           true|          true|     true| true|false|  false| 331.2642361026012|(18,[0,1,6,11,12,...|\n",
      "|  8|false|     false|      false|     false| false|    false|    true| true| false|         false|          false|         false|    false| true|false|  false|100.45466986113651|(18,[0,7,8,14,17]...|\n",
      "|  4| true|     false|      false|     false| false|    false|    true|false| false|         false|           true|          true|    false|false| true|  false|100.45466986113651|(18,[0,1,7,11,12,...|\n",
      "|  8| true|     false|      false|     false| false|    false|    true|false| false|         false|           true|          true|     true| true|false|  false| 157.3505121487356|(18,[0,1,7,11,12,...|\n",
      "|  8| true|     false|      false|     false| false|    false|    true|false| false|         false|           true|          true|     true| true|false|  false| 165.6321180513006|(18,[0,1,7,11,12,...|\n",
      "| 16| true|     false|      false|     false| false|    false|   false|false| false|         false|           true|          true|     true| true|false|  false|141.21199808219862|(18,[0,1,11,12,13...|\n",
      "| 16| true|     false|      false|     false|  true|    false|   false|false|  true|         false|          false|         false|     true| true|false|  false| 157.3505121487356|(18,[0,1,5,9,13,1...|\n",
      "|  4| true|     false|      false|     false| false|    false|    true|false|  true|         false|          false|         false|     true|false| true|  false|141.21199808219862|(18,[0,1,7,9,13,1...|\n",
      "| 64| true|     false|      false|     false|  true|    false|   false|false|  true|         false|          false|         false|     true| true|false|  false|127.33567457123111|(18,[0,1,5,9,13,1...|\n",
      "|  8| true|     false|      false|     false| false|    false|   false|false| false|         false|           true|          true|    false| true|false|  false| 209.8006828649808|(18,[0,1,11,12,14...|\n",
      "|  8| true|     false|      false|     false| false|     true|   false|false| false|         false|           true|          true|     true| true|false|  false| 165.6321180513006|(18,[0,1,6,11,12,...|\n",
      "|  4| true|     false|      false|     false| false|    false|    true|false| false|         false|          false|         false|    false|false| true|  false|100.45466986113651|(18,[0,1,7,15,17]...|\n",
      "|  4| true|     false|      false|     false| false|    false|    true|false| false|         false|           true|          true|     true|false|false|  false| 165.6321180513006|(18,[0,1,7,11,12,...|\n",
      "|  4| true|     false|      false|     false| false|    false|    true|false| false|         false|           true|          true|     true| true|false|  false| 157.3505121487356|(18,[0,1,7,11,12,...|\n",
      "|  4| true|     false|      false|     false| false|    false|    true|false| false|         false|           true|          true|     true|false| true|  false|141.21199808219862|(18,[0,1,7,11,12,...|\n",
      "|  8| true|     false|      false|     false| false|    false|   false|false| false|         false|           true|          true|     true| true|false|  false|194.94753717542463|(18,[0,1,11,12,13...|\n",
      "|  4| true|     false|      false|     false| false|    false|   false|false| false|         false|           true|          true|     true|false|false|  false|189.90579052433606|(18,[0,1,11,12,13...|\n",
      "|  8| true|     false|      false|     false| false|    false|   false|false| false|         false|           true|          true|    false| true|false|  false|220.84282406840083|(18,[0,1,11,12,14...|\n",
      "|  8| true|     false|      false|     false| false|    false|   false|false| false|         false|           true|          true|     true| true|false|  false| 165.6321180513006|(18,[0,1,11,12,13...|\n",
      "|  8| true|     false|      false|     false| false|     true|   false|false| false|         false|           true|          true|     true| true|false|  false| 165.6321180513006|(18,[0,1,6,11,12,...|\n",
      "+---+-----+----------+-----------+----------+------+---------+--------+-----+------+--------------+---------------+--------------+---------+-----+-----+-------+------------------+--------------------+\n",
      "only showing top 20 rows\n",
      "\n"
     ]
    }
   ],
   "source": [
    "test_assembled.show()"
   ]
  },
  {
   "cell_type": "code",
   "execution_count": 71,
   "metadata": {},
   "outputs": [
    {
     "name": "stdout",
     "output_type": "stream",
     "text": [
      "+---+-----+----------+-----------+----------+------+---------+--------+-----+------+--------------+---------------+--------------+---------+-----+-----+-------+------------------+--------------------+------------------+\n",
      "|Ram|Intel|Intel_baja|Intel_media|Intel_alta|Gaming|Ultrabook|Notebook|  AMD|Nvidia|Nvidia_Geforce|Nvidia_graphics|Intel_graphics|Screen_HD|  SSD|  HDD|HDD+SSD|               ppi|            features|        prediction|\n",
      "+---+-----+----------+-----------+----------+------+---------+--------+-----+------+--------------+---------------+--------------+---------+-----+-----+-------+------------------+--------------------+------------------+\n",
      "| 16| true|     false|      false|     false| false|     true|   false|false| false|         false|           true|          true|     true| true|false|  false| 331.2642361026012|(18,[0,1,6,11,12,...| 2518.680798491453|\n",
      "|  8|false|     false|      false|     false| false|    false|    true| true| false|         false|          false|         false|    false| true|false|  false|100.45466986113651|(18,[0,7,8,14,17]...| 776.2003157302213|\n",
      "|  4| true|     false|      false|     false| false|    false|    true|false| false|         false|           true|          true|    false|false| true|  false|100.45466986113651|(18,[0,1,7,11,12,...|420.93053644472536|\n",
      "|  8| true|     false|      false|     false| false|    false|    true|false| false|         false|           true|          true|     true| true|false|  false| 157.3505121487356|(18,[0,1,7,11,12,...|1053.1267755149252|\n",
      "|  8| true|     false|      false|     false| false|    false|    true|false| false|         false|           true|          true|     true| true|false|  false| 165.6321180513006|(18,[0,1,7,11,12,...|1077.0189195614157|\n",
      "| 16| true|     false|      false|     false| false|    false|   false|false| false|         false|           true|          true|     true| true|false|  false|141.21199808219862|(18,[0,1,11,12,13...| 1931.784330138179|\n",
      "| 16| true|     false|      false|     false|  true|    false|   false|false|  true|         false|          false|         false|     true| true|false|  false| 157.3505121487356|(18,[0,1,5,9,13,1...|2020.4544318404005|\n",
      "|  4| true|     false|      false|     false| false|    false|    true|false|  true|         false|          false|         false|     true|false| true|  false|141.21199808219862|(18,[0,1,7,9,13,1...| 656.0021811584276|\n",
      "| 64| true|     false|      false|     false|  true|    false|   false|false|  true|         false|          false|         false|     true| true|false|  false|127.33567457123111|(18,[0,1,5,9,13,1...| 5702.888900724592|\n",
      "|  8| true|     false|      false|     false| false|    false|   false|false| false|         false|           true|          true|    false| true|false|  false| 209.8006828649808|(18,[0,1,11,12,14...|1525.8370232795223|\n",
      "|  8| true|     false|      false|     false| false|     true|   false|false| false|         false|           true|          true|     true| true|false|  false| 165.6321180513006|(18,[0,1,6,11,12,...| 1412.666879571165|\n",
      "|  4| true|     false|      false|     false| false|    false|    true|false| false|         false|          false|         false|    false|false| true|  false|100.45466986113651|(18,[0,1,7,15,17]...| 372.2089036905131|\n",
      "|  4| true|     false|      false|     false| false|    false|    true|false| false|         false|           true|          true|     true|false|false|  false| 165.6321180513006|(18,[0,1,7,11,12,...|390.20051082695215|\n",
      "|  4| true|     false|      false|     false| false|    false|    true|false| false|         false|           true|          true|     true| true|false|  false| 157.3505121487356|(18,[0,1,7,11,12,...|  739.041256519687|\n",
      "|  4| true|     false|      false|     false| false|    false|    true|false| false|         false|           true|          true|     true|false| true|  false|141.21199808219862|(18,[0,1,7,11,12,...| 514.1662372557028|\n",
      "|  8| true|     false|      false|     false| false|    false|   false|false| false|         false|           true|          true|     true| true|false|  false|194.94753717542463|(18,[0,1,11,12,13...|1458.6384473574594|\n",
      "|  4| true|     false|      false|     false| false|    false|   false|false| false|         false|           true|          true|     true|false|false|  false|189.90579052433606|(18,[0,1,11,12,13...| 757.2747754637804|\n",
      "|  8| true|     false|      false|     false| false|    false|   false|false| false|         false|           true|          true|    false| true|false|  false|220.84282406840083|(18,[0,1,11,12,14...|1557.6932153415096|\n",
      "|  8| true|     false|      false|     false| false|    false|   false|false| false|         false|           true|          true|     true| true|false|  false| 165.6321180513006|(18,[0,1,11,12,13...| 1374.064486130944|\n",
      "|  8| true|     false|      false|     false| false|     true|   false|false| false|         false|           true|          true|     true| true|false|  false| 165.6321180513006|(18,[0,1,6,11,12,...| 1412.666879571165|\n",
      "+---+-----+----------+-----------+----------+------+---------+--------+-----+------+--------------+---------------+--------------+---------+-----+-----+-------+------------------+--------------------+------------------+\n",
      "only showing top 20 rows\n",
      "\n"
     ]
    }
   ],
   "source": [
    "predictions_test = lr_model.transform(test_assembled)\n",
    "\n",
    "predictions_test.show()\n",
    "\n",
    "#Aqui tenemos las predicciones.\n",
    "\n",
    "#Segun kaggle este modelo tiene un marge de error de 260.\n",
    "\n",
    "#teniendo en cuenta que hay precios de hasta 2500, es aceptable."
   ]
  }
 ],
 "metadata": {
  "kernelspec": {
   "display_name": "Python 3",
   "language": "python",
   "name": "python3"
  },
  "language_info": {
   "codemirror_mode": {
    "name": "ipython",
    "version": 3
   },
   "file_extension": ".py",
   "mimetype": "text/x-python",
   "name": "python",
   "nbconvert_exporter": "python",
   "pygments_lexer": "ipython3",
   "version": "3.11.3"
  }
 },
 "nbformat": 4,
 "nbformat_minor": 2
}
